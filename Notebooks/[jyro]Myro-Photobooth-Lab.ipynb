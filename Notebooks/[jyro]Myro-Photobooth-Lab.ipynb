{
 "metadata": {
  "name": "",
<<<<<<< Updated upstream
  "signature": "sha256:494903dddee0e6b007ee7d1ec3df67ee45fb1813ce93bd9add2956845a0f978f"
=======
  "signature": "sha256:f7f96988bb7d1b22f1b421bb316bf9884e4febccdac0ad40e84b27beb15fc2e4"
>>>>>>> Stashed changes
 },
 "nbformat": 3,
 "nbformat_minor": 0,
 "worksheets": [
  {
   "cells": [
    {
     "cell_type": "heading",
     "level": 1,
     "metadata": {},
     "source": [
      "Photobooth Lab - NumPy Commands"
     ]
    },
    {
     "cell_type": "markdown",
     "metadata": {},
     "source": [
      "Darren Tirto & Quincy Delp<br>\n",
      "dt2925@bard.edu, qd1665@bard.edu <br>\n",
      "April 18, 2015 <br>\n",
      "Keith O'Hara <br>"
     ]
    },
    {
     "cell_type": "code",
     "collapsed": false,
     "input": [
      "from myro import*\n",
      "from PIL import Image\n",
      "%matplotlib inline"
     ],
     "language": "python",
     "metadata": {},
<<<<<<< Updated upstream
     "outputs": [
      {
       "output_type": "stream",
       "stream": "stdout",
       "text": [
        "WARNING: xmpp was not found: chat and webservices will not be available\n"
       ]
      },
      {
       "output_type": "stream",
       "stream": "stderr",
       "text": [
        "(c) 2006-2007 Institute for Personal Robots in Education\n",
        "[See http://www.roboteducation.org/ for more information]\n",
        "Myro version 2.9.1 is ready!\n"
       ]
      }
     ],
     "prompt_number": 1
=======
     "outputs": [],
     "prompt_number": 9
>>>>>>> Stashed changes
    },
    {
     "cell_type": "code",
     "collapsed": false,
     "input": [
<<<<<<< Updated upstream
      "picture=makePicture(\"/Users/quincy/Documents/IPythonNotebook/Quincy-is-da-Bomb/coolclassroom.jpg\")\n",
      "picture2=makePicture(\"/Users/quincy/Documents/IPythonNotebook/Quincy-is-da-Bomb/coolteacher.jpg\")\n",
      "picture3=makePicture(\"/Users/quincy/Documents/IPythonNotebook/Quincy-is-da-Bomb/coolguy.jpg\")\n",
=======
      "from PIL import Image"
     ],
     "language": "python",
     "metadata": {},
     "outputs": [],
     "prompt_number": 10
    },
    {
     "cell_type": "code",
     "collapsed": false,
     "input": [
      "picture=makePicture(\"/Users/Darren/Documents/KeithTutorial/IPython-Notebook/Quincy-is-da-Bomb/coolclassroom.jpg\")\n",
      "picture2=makePicture(\"/Users/Darren/Documents/KeithTutorial/IPython-Notebook/Quincy-is-da-Bomb/coolteacher.jpg\")\n",
      "picture3=makePicture(\"/Users/Darren/Documents/KeithTutorial/IPython-Notebook/Quincy-is-da-Bomb/coolguy.jpg\")\n",
>>>>>>> Stashed changes
      "theCoolestClassInTheWorld=[picture,picture2,picture3]"
     ],
     "language": "python",
     "metadata": {},
<<<<<<< Updated upstream
     "outputs": [
      {
       "output_type": "stream",
       "stream": "stdout",
       "text": [
        "Hey Quincy!\n",
        "Hey Quincy!\n",
        "Hey Quincy!\n"
       ]
      },
      {
       "output_type": "stream",
       "stream": "stderr",
       "text": [
        "/Users/quincy/anaconda/envs/jyroTest/lib/python2.7/site-packages/myro/graphics.py:1107: FutureWarning: comparison to `None` will result in an elementwise object comparison in the future.\n",
        "  if self.pixels == None:\n"
       ]
      }
     ],
     "prompt_number": 2
=======
     "outputs": [],
     "prompt_number": 11
>>>>>>> Stashed changes
    },
    {
     "cell_type": "code",
     "collapsed": false,
     "input": [
      "def resize(image,factor):\n",
      "     x=getWidth(image)\n",
      "     y=getHeight(image)\n",
      "     resizeX=x*factor\n",
      "     resizeY=y*factor\n",
      "     resizeImage=makePicture(resizeX, resizeY)\n",
      "     for x in range(int(resizeX)):\n",
      "         for y in range(int(resizeY)):\n",
      "            setPixel(resizeImage,x,y,getPixel(image,(x)/factor,(y)/factor))\n",
      "     \n",
      "     show(resizeImage)"
     ],
     "language": "python",
     "metadata": {},
     "outputs": [],
<<<<<<< Updated upstream
     "prompt_number": 3
=======
     "prompt_number": 5
>>>>>>> Stashed changes
    },
    {
     "cell_type": "code",
     "collapsed": false,
     "input": [
      "def mirror(image):\n",
      "    mirrorImage=makePicture(getWidth(image),getHeight(image))\n",
      "    for x in range(getWidth(image)):\n",
      "       mirrorX=(getWidth(image)-x)\n",
      "       for y in range(getHeight(image)):\n",
      "           pix = getPixel(image,x,y)\n",
      "           c = getColor(pix)\n",
      "           setPixel(mirrorImage,mirrorX,y,c)\n",
      "    \n",
      "    show(mirrorImage)"
     ],
     "language": "python",
     "metadata": {},
     "outputs": [],
     "prompt_number": 4
    },
    {
     "cell_type": "code",
     "collapsed": false,
     "input": [
      "def flip(image):\n",
      "    mirrorImage=makePicture(getWidth(image),getHeight(image))\n",
      "    for y in range(getHeight(image)):\n",
      "       for x in range(getWidth(image)):\n",
      "           mirrorY=(getHeight(image)-y)\n",
      "           setPixel(mirrorImage,x,mirrorY,getPixel(image,x,y))\n",
      "    \n",
      "    show(mirrorImage)"
     ],
     "language": "python",
     "metadata": {},
     "outputs": [],
     "prompt_number": 5
    },
    {
     "cell_type": "code",
     "collapsed": false,
     "input": [
      "def photobooth(listOfImages):\n",
      "    for i in range(len(listOfImages)):\n",
      "        strip=makePicture(getWidth(listOfImages[0]),getHeight(listOfImages[0])*len(listOfImages))\n",
      "        for y in range(getHeight(listOfImages[i])):\n",
      "            for x in range(getWidth(listOfImages[i])):\n",
      "                setPixel(strip,x,y*i,getPixel(listOfImages[i],x,y))\n",
      "    \n",
      "    show(strip)"
     ],
     "language": "python",
     "metadata": {},
     "outputs": [],
     "prompt_number": 6
    },
    {
     "cell_type": "code",
     "collapsed": false,
     "input": [
      "#flip(theCoolestClassInTheWorld[1])\n",
      "mirror(theCoolestClassInTheWorld[0])\n",
      "#resize(theCoolestClassInTheWorld[2], 2)\n",
      "#photobooth(theCoolestClassInTheWorld)    "
     ],
     "language": "python",
     "metadata": {},
     "outputs": [
      {
       "output_type": "stream",
       "stream": "stdout",
       "text": [
        "Hey Quincy!\n"
       ]
      },
      {
       "ename": "IndexError",
       "evalue": "index 427 is out of bounds for axis 1 with size 427",
       "output_type": "pyerr",
       "traceback": [
        "\u001b[0;31m---------------------------------------------------------------------------\u001b[0m\n\u001b[0;31mIndexError\u001b[0m                                Traceback (most recent call last)",
        "\u001b[0;32m<ipython-input-8-6061fe702797>\u001b[0m in \u001b[0;36m<module>\u001b[0;34m()\u001b[0m\n\u001b[1;32m      1\u001b[0m \u001b[0;31m#flip(theCoolestClassInTheWorld[1])\u001b[0m\u001b[0;34m\u001b[0m\u001b[0;34m\u001b[0m\u001b[0m\n\u001b[0;32m----> 2\u001b[0;31m \u001b[0mmirror\u001b[0m\u001b[0;34m(\u001b[0m\u001b[0mtheCoolestClassInTheWorld\u001b[0m\u001b[0;34m[\u001b[0m\u001b[0;36m0\u001b[0m\u001b[0;34m]\u001b[0m\u001b[0;34m)\u001b[0m\u001b[0;34m\u001b[0m\u001b[0m\n\u001b[0m\u001b[1;32m      3\u001b[0m \u001b[0;31m#resize(theCoolestClassInTheWorld[2], 2)\u001b[0m\u001b[0;34m\u001b[0m\u001b[0;34m\u001b[0m\u001b[0m\n\u001b[1;32m      4\u001b[0m \u001b[0;31m#photobooth(theCoolestClassInTheWorld)\u001b[0m\u001b[0;34m\u001b[0m\u001b[0;34m\u001b[0m\u001b[0m\n",
        "\u001b[0;32m<ipython-input-4-b77625e1f234>\u001b[0m in \u001b[0;36mmirror\u001b[0;34m(image)\u001b[0m\n\u001b[1;32m      6\u001b[0m            \u001b[0mpix\u001b[0m \u001b[0;34m=\u001b[0m \u001b[0mgetPixel\u001b[0m\u001b[0;34m(\u001b[0m\u001b[0mimage\u001b[0m\u001b[0;34m,\u001b[0m\u001b[0mx\u001b[0m\u001b[0;34m,\u001b[0m\u001b[0my\u001b[0m\u001b[0;34m)\u001b[0m\u001b[0;34m\u001b[0m\u001b[0m\n\u001b[1;32m      7\u001b[0m            \u001b[0mc\u001b[0m \u001b[0;34m=\u001b[0m \u001b[0mgetColor\u001b[0m\u001b[0;34m(\u001b[0m\u001b[0mpix\u001b[0m\u001b[0;34m)\u001b[0m\u001b[0;34m\u001b[0m\u001b[0m\n\u001b[0;32m----> 8\u001b[0;31m            \u001b[0msetPixel\u001b[0m\u001b[0;34m(\u001b[0m\u001b[0mmirrorImage\u001b[0m\u001b[0;34m,\u001b[0m\u001b[0mmirrorX\u001b[0m\u001b[0;34m,\u001b[0m\u001b[0my\u001b[0m\u001b[0;34m,\u001b[0m\u001b[0mc\u001b[0m\u001b[0;34m)\u001b[0m\u001b[0;34m\u001b[0m\u001b[0m\n\u001b[0m\u001b[1;32m      9\u001b[0m \u001b[0;34m\u001b[0m\u001b[0m\n\u001b[1;32m     10\u001b[0m     \u001b[0mshow\u001b[0m\u001b[0;34m(\u001b[0m\u001b[0mmirrorImage\u001b[0m\u001b[0;34m)\u001b[0m\u001b[0;34m\u001b[0m\u001b[0m\n",
        "\u001b[0;32m/Users/quincy/anaconda/envs/jyroTest/lib/python2.7/site-packages/myro/__init__.py\u001b[0m in \u001b[0;36msetPixel\u001b[0;34m(picture, x, y, color)\u001b[0m\n\u001b[1;32m   1401\u001b[0m \u001b[0;34m\u001b[0m\u001b[0m\n\u001b[1;32m   1402\u001b[0m \u001b[0;32mdef\u001b[0m \u001b[0msetPixel\u001b[0m\u001b[0;34m(\u001b[0m\u001b[0mpicture\u001b[0m\u001b[0;34m,\u001b[0m \u001b[0mx\u001b[0m\u001b[0;34m,\u001b[0m \u001b[0my\u001b[0m\u001b[0;34m,\u001b[0m \u001b[0mcolor\u001b[0m\u001b[0;34m)\u001b[0m\u001b[0;34m:\u001b[0m\u001b[0;34m\u001b[0m\u001b[0m\n\u001b[0;32m-> 1403\u001b[0;31m     \u001b[0;32mreturn\u001b[0m \u001b[0mpicture\u001b[0m\u001b[0;34m.\u001b[0m\u001b[0msetColor\u001b[0m\u001b[0;34m(\u001b[0m\u001b[0mx\u001b[0m\u001b[0;34m,\u001b[0m \u001b[0my\u001b[0m\u001b[0;34m,\u001b[0m \u001b[0mcolor\u001b[0m\u001b[0;34m)\u001b[0m\u001b[0;34m\u001b[0m\u001b[0m\n\u001b[0m\u001b[1;32m   1404\u001b[0m \u001b[0;34m\u001b[0m\u001b[0m\n\u001b[1;32m   1405\u001b[0m \u001b[0;32mdef\u001b[0m \u001b[0mgetGray\u001b[0m\u001b[0;34m(\u001b[0m\u001b[0mpicture\u001b[0m\u001b[0;34m,\u001b[0m \u001b[0mx\u001b[0m\u001b[0;34m,\u001b[0m \u001b[0my\u001b[0m\u001b[0;34m)\u001b[0m\u001b[0;34m:\u001b[0m\u001b[0;34m\u001b[0m\u001b[0m\n",
        "\u001b[0;32m/Users/quincy/anaconda/envs/jyroTest/lib/python2.7/site-packages/myro/graphics.py\u001b[0m in \u001b[0;36msetColor\u001b[0;34m(self, x, y, newColor)\u001b[0m\n\u001b[1;32m   1120\u001b[0m     \u001b[0;32mdef\u001b[0m \u001b[0msetColor\u001b[0m\u001b[0;34m(\u001b[0m\u001b[0mself\u001b[0m\u001b[0;34m,\u001b[0m \u001b[0mx\u001b[0m\u001b[0;34m,\u001b[0m \u001b[0my\u001b[0m\u001b[0;34m,\u001b[0m \u001b[0mnewColor\u001b[0m\u001b[0;34m)\u001b[0m\u001b[0;34m:\u001b[0m\u001b[0;34m\u001b[0m\u001b[0m\n\u001b[1;32m   1121\u001b[0m     \u001b[0;31m#QD & DT 5.1.15\u001b[0m\u001b[0;34m\u001b[0m\u001b[0;34m\u001b[0m\u001b[0m\n\u001b[0;32m-> 1122\u001b[0;31m         \u001b[0mself\u001b[0m\u001b[0;34m.\u001b[0m\u001b[0mpixels\u001b[0m\u001b[0;34m[\u001b[0m\u001b[0my\u001b[0m\u001b[0;34m,\u001b[0m \u001b[0mx\u001b[0m\u001b[0;34m]\u001b[0m \u001b[0;34m=\u001b[0m \u001b[0mtuple\u001b[0m\u001b[0;34m(\u001b[0m\u001b[0mnewColor\u001b[0m\u001b[0;34m.\u001b[0m\u001b[0mgetRGBA\u001b[0m\u001b[0;34m(\u001b[0m\u001b[0;34m)\u001b[0m\u001b[0;34m)\u001b[0m\u001b[0;34m\u001b[0m\u001b[0m\n\u001b[0m\u001b[1;32m   1123\u001b[0m     \u001b[0;32mdef\u001b[0m \u001b[0msetRGB\u001b[0m\u001b[0;34m(\u001b[0m\u001b[0mself\u001b[0m\u001b[0;34m,\u001b[0m \u001b[0mx\u001b[0m\u001b[0;34m,\u001b[0m \u001b[0my\u001b[0m\u001b[0;34m,\u001b[0m \u001b[0mrgb\u001b[0m\u001b[0;34m)\u001b[0m\u001b[0;34m:\u001b[0m\u001b[0;34m\u001b[0m\u001b[0m\n\u001b[1;32m   1124\u001b[0m         \u001b[0mself\u001b[0m\u001b[0;34m.\u001b[0m\u001b[0msetColor\u001b[0m\u001b[0;34m(\u001b[0m\u001b[0mx\u001b[0m\u001b[0;34m,\u001b[0m \u001b[0my\u001b[0m\u001b[0;34m,\u001b[0m \u001b[0mColor\u001b[0m\u001b[0;34m(\u001b[0m\u001b[0;34m*\u001b[0m\u001b[0mrgb\u001b[0m\u001b[0;34m)\u001b[0m\u001b[0;34m)\u001b[0m\u001b[0;34m\u001b[0m\u001b[0m\n",
        "\u001b[0;31mIndexError\u001b[0m: index 427 is out of bounds for axis 1 with size 427"
       ]
      }
     ],
     "prompt_number": 8
    },
    {
     "cell_type": "code",
     "collapsed": false,
     "input": [],
     "language": "python",
     "metadata": {},
     "outputs": []
    }
   ],
   "metadata": {}
  }
 ]
}