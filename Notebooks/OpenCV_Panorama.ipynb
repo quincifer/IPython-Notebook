{
 "metadata": {
  "name": "",
  "signature": "sha256:fd83e63832a6dcc7845928f221a94a46c9494a5049f7776b33a0ef01d8a41b13"
 },
 "nbformat": 3,
 "nbformat_minor": 0,
 "worksheets": [
  {
   "cells": [
    {
     "cell_type": "heading",
     "level": 1,
     "metadata": {},
     "source": [
      "Creating a Panorama using OpenCV library and Scribbler Robot"
     ]
    },
    {
     "cell_type": "heading",
     "level": 5,
     "metadata": {},
     "source": [
      "And tools from Jan E. Solem's Programming Computer Vision book"
     ]
    },
    {
     "cell_type": "code",
     "collapsed": false,
     "input": [
      "from myro import *\n",
      "from PIL import Image\n",
      "import numpy\n",
      "from matplotlib.pyplot import imshow\n",
      "#import cv2\n",
      "%matplotlib inline"
     ],
     "language": "python",
     "metadata": {},
     "outputs": [],
     "prompt_number": 28
    },
    {
     "cell_type": "code",
     "collapsed": false,
     "input": [
      "init(\"/dev/tty.Fluke2-0639-Fluke2\")"
     ],
     "language": "python",
     "metadata": {},
     "outputs": [
      {
       "output_type": "stream",
       "stream": "stdout",
       "text": [
        "Closing serial port...\n",
        "You are using fluke firmware"
       ]
      },
      {
       "output_type": "stream",
       "stream": "stdout",
       "text": [
        " 3.0.9\n",
        "You are using scribbler firmware"
       ]
      },
      {
       "output_type": "stream",
       "stream": "stdout",
       "text": [
        " 1.1.6\n",
        "Hello, I'm Maddie!"
       ]
      },
      {
       "output_type": "stream",
       "stream": "stdout",
       "text": [
        "\n"
       ]
      }
     ],
     "prompt_number": 29
    },
    {
     "cell_type": "code",
     "collapsed": false,
     "input": [
      "for i in range(5):\n",
      "    pic = takePicture()\n",
      "    motors(-0.5, 0.5)\n",
      "    motors(0, 0)\n",
      "    savePicture(pic, [\"picture\" + str(i) + \".png\"])"
     ],
     "language": "python",
     "metadata": {},
     "outputs": [
      {
       "ename": "KeyError",
       "evalue": "''",
       "output_type": "pyerr",
       "traceback": [
        "\u001b[0;31m---------------------------------------------------------------------------\u001b[0m\n\u001b[0;31mKeyError\u001b[0m                                  Traceback (most recent call last)",
        "\u001b[0;32m<ipython-input-30-8f2877e1812d>\u001b[0m in \u001b[0;36m<module>\u001b[0;34m()\u001b[0m\n\u001b[1;32m      3\u001b[0m     \u001b[0mmotors\u001b[0m\u001b[0;34m(\u001b[0m\u001b[0;34m-\u001b[0m\u001b[0;36m0.5\u001b[0m\u001b[0;34m,\u001b[0m \u001b[0;36m0.5\u001b[0m\u001b[0;34m)\u001b[0m\u001b[0;34m\u001b[0m\u001b[0m\n\u001b[1;32m      4\u001b[0m     \u001b[0mmotors\u001b[0m\u001b[0;34m(\u001b[0m\u001b[0;36m0\u001b[0m\u001b[0;34m,\u001b[0m \u001b[0;36m0\u001b[0m\u001b[0;34m)\u001b[0m\u001b[0;34m\u001b[0m\u001b[0m\n\u001b[0;32m----> 5\u001b[0;31m     \u001b[0msavePicture\u001b[0m\u001b[0;34m(\u001b[0m\u001b[0mpic\u001b[0m\u001b[0;34m,\u001b[0m \u001b[0;34m[\u001b[0m\u001b[0;34m\"picture\"\u001b[0m \u001b[0;34m+\u001b[0m \u001b[0mstr\u001b[0m\u001b[0;34m(\u001b[0m\u001b[0mi\u001b[0m\u001b[0;34m)\u001b[0m \u001b[0;34m+\u001b[0m \u001b[0;34m\".png\"\u001b[0m\u001b[0;34m]\u001b[0m\u001b[0;34m)\u001b[0m\u001b[0;34m\u001b[0m\u001b[0m\n\u001b[0m",
        "\u001b[0;32m/Users/quincy/anaconda/lib/python2.7/site-packages/myro/__init__.pyc\u001b[0m in \u001b[0;36msavePicture\u001b[0;34m(picture, filename)\u001b[0m\n\u001b[1;32m   1337\u001b[0m         \u001b[0mfp\u001b[0m\u001b[0;34m.\u001b[0m\u001b[0mclose\u001b[0m\u001b[0;34m(\u001b[0m\u001b[0;34m)\u001b[0m\u001b[0;34m\u001b[0m\u001b[0m\n\u001b[1;32m   1338\u001b[0m     \u001b[0;32melse\u001b[0m\u001b[0;34m:\u001b[0m\u001b[0;34m\u001b[0m\u001b[0m\n\u001b[0;32m-> 1339\u001b[0;31m         \u001b[0;32mreturn\u001b[0m \u001b[0mpicture\u001b[0m\u001b[0;34m.\u001b[0m\u001b[0mimage\u001b[0m\u001b[0;34m.\u001b[0m\u001b[0msave\u001b[0m\u001b[0;34m(\u001b[0m\u001b[0mfilename\u001b[0m\u001b[0;34m)\u001b[0m\u001b[0;34m\u001b[0m\u001b[0m\n\u001b[0m\u001b[1;32m   1340\u001b[0m \u001b[0;34m\u001b[0m\u001b[0m\n\u001b[1;32m   1341\u001b[0m \u001b[0;31m#QD & DT 4.2.15\u001b[0m\u001b[0;34m\u001b[0m\u001b[0;34m\u001b[0m\u001b[0m\n",
        "\u001b[0;32m/Users/quincy/anaconda/lib/python2.7/site-packages/PIL/Image.pyc\u001b[0m in \u001b[0;36msave\u001b[0;34m(self, fp, format, **params)\u001b[0m\n\u001b[1;32m   1665\u001b[0m                     \u001b[0mformat\u001b[0m \u001b[0;34m=\u001b[0m \u001b[0mEXTENSION\u001b[0m\u001b[0;34m[\u001b[0m\u001b[0mext\u001b[0m\u001b[0;34m]\u001b[0m\u001b[0;34m\u001b[0m\u001b[0m\n\u001b[1;32m   1666\u001b[0m                 \u001b[0;32mexcept\u001b[0m \u001b[0mKeyError\u001b[0m\u001b[0;34m:\u001b[0m\u001b[0;34m\u001b[0m\u001b[0m\n\u001b[0;32m-> 1667\u001b[0;31m                     \u001b[0;32mraise\u001b[0m \u001b[0mKeyError\u001b[0m\u001b[0;34m(\u001b[0m\u001b[0mext\u001b[0m\u001b[0;34m)\u001b[0m  \u001b[0;31m# unknown extension\u001b[0m\u001b[0;34m\u001b[0m\u001b[0m\n\u001b[0m\u001b[1;32m   1668\u001b[0m \u001b[0;34m\u001b[0m\u001b[0m\n\u001b[1;32m   1669\u001b[0m         \u001b[0;32mtry\u001b[0m\u001b[0;34m:\u001b[0m\u001b[0;34m\u001b[0m\u001b[0m\n",
        "\u001b[0;31mKeyError\u001b[0m: ''"
       ]
      }
     ],
     "prompt_number": 30
    },
    {
     "cell_type": "code",
     "collapsed": false,
     "input": [
      "import homography\n",
      "import sift\n",
      "import warp\n",
      "import ransac"
     ],
     "language": "python",
     "metadata": {},
     "outputs": [],
     "prompt_number": 4
    },
    {
     "cell_type": "markdown",
     "metadata": {},
     "source": [
      "The following code matches features using sift"
     ]
    },
    {
     "cell_type": "code",
     "collapsed": false,
     "input": [
      "#p. 72 from book\n",
      "#uses sift\n",
      "#change from: featname = ['Univ' + str(i+1) + '.sift' for i in range(5)]\n",
      "\n",
      "featname = ['picture' + str(i+1) + '.png' for i in range(5)]\n",
      "imname = ['picture' + str(i+1) + '.png' for i in range(5)]\n",
      "l = {}\n",
      "d = {}\n",
      "for i in range(5):\n",
      "    sift.process_image(imname[i], featname[i])\n",
      "    l[i], d[i] = sift.read_features_from_file(featname[i])\n",
      "    \n",
      "matches = {}\n",
      "for i in range(4):\n",
      "    matches[i] = sift.match(d[i+1], d[i])"
     ],
     "language": "python",
     "metadata": {},
     "outputs": []
    },
    {
     "cell_type": "markdown",
     "metadata": {},
     "source": [
      "The following code creates homographies for and applies RANSAC to a given \"Model\""
     ]
    },
    {
     "cell_type": "code",
     "collapsed": false,
     "input": [
      "#from p. 74\n",
      "def convert_points(j):\n",
      "    ndx = matches[j].nonzero()[0]\n",
      "    fp = homography.make_homog(l[j+1][ndx, :2].T)\n",
      "    ndx2 = [int(matches[j][i]) for i in ndx]\n",
      "    tp = homography.make_homog(l[j][ndx, :2].T)\n",
      "    return fp, tp"
     ],
     "language": "python",
     "metadata": {},
     "outputs": [],
     "prompt_number": 1
    },
    {
     "cell_type": "code",
     "collapsed": false,
     "input": [
      "#\"Model\" is not a real model, just a place holder\n",
      "model = homography.RansaceModel()"
     ],
     "language": "python",
     "metadata": {},
     "outputs": []
    },
    {
     "cell_type": "code",
     "collapsed": false,
     "input": [
      "fp, tp = convert_points(1)\n",
      "H_12 = homography.H_from_ransac(fp, tp, model)[0] #im 1 to 2\n",
      "\n",
      "fp, tp = convert_points(0)\n",
      "H_01 = homography.H_from_ransac(fp, tp, model)[0] #im 0 to 1\n",
      "\n",
      "tp, fp = convert_points(2)\n",
      "H_32 = homography.H_from_ransac(fp, tp, model)[0] #im 3 to 2\n",
      "\n",
      "tp, fp = convert_points(3)\n",
      "H43 = homography.H_from_ransac(fp, tp, model)[0] #im 4 to 3"
     ],
     "language": "python",
     "metadata": {},
     "outputs": []
    },
    {
     "cell_type": "markdown",
     "metadata": {},
     "source": [
      "The following code stitches"
     ]
    },
    {
     "cell_type": "code",
     "collapsed": false,
     "input": [
      "#p. 76 from  book\n",
      "#warp images\n",
      "delta = 2000 #for padding\n",
      "\n",
      "im1 = array(Image.open(imname[1]))\n",
      "im2 = array(Image.open(imname[2]))\n",
      "im12 = warp.panorama(H_12, im1, im2, delta, delta)\n",
      "\n",
      "im1 = array(Image.open(imname[0]))\n",
      "im_02 = warp.panorama(dot(H_12, H_01), im1, im_12, delta, delta)\n",
      "\n",
      "im1 = array(Image.open(imname[3]))\n",
      "im_32 = warp.panorama(H_32, im1, im_02, delta, delta)\n",
      "\n",
      "im1 = array(Image.open(imname[j+1]))\n",
      "im_42 = warp.panorama(dot(H_32, H_43), im1, im_32, delta, 2*delta)\n"
     ],
     "language": "python",
     "metadata": {},
     "outputs": []
    }
   ],
   "metadata": {}
  }
 ]
}