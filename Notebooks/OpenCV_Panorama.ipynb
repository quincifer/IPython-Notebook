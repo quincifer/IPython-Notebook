{
 "metadata": {
  "name": "",
  "signature": "sha256:64892719b1b0466e0b109d29d65ce523d2fbb2e29cae0d867410fb9790216431"
 },
 "nbformat": 3,
 "nbformat_minor": 0,
 "worksheets": [
  {
   "cells": [
    {
     "cell_type": "heading",
     "level": 1,
     "metadata": {},
     "source": [
      "Creating a Panorama using OpenCV library"
     ]
    },
    {
     "cell_type": "heading",
     "level": 5,
     "metadata": {},
     "source": [
      "And tools from Jan E. Solem's Programming Computer Vision book"
     ]
    },
    {
     "cell_type": "markdown",
     "metadata": {},
     "source": [
      "Questions:<li>\n",
      "Where do I save the python files downloaded from the gib-hub site: https://github.com/jesolem/PCV/tree/master/pcv_book?<li>\n",
      "What if we want to use pictures, not a class, as a model?"
     ]
    },
    {
     "cell_type": "markdown",
     "metadata": {},
     "source": [
      "The following code creates homographies for and applies RANSAC to a given \"Model\""
     ]
    },
    {
     "cell_type": "code",
     "collapsed": false,
     "input": [
      "import homography"
     ],
     "language": "python",
     "metadata": {},
     "outputs": [],
     "prompt_number": 1
    },
    {
     "cell_type": "code",
     "collapsed": false,
     "input": [
      "def convert_points(j):\n",
      "    ndx = matches[j].nonzero()[0]\n",
      "    fp = homography.make_homoc(l[j+1][ndx, :2].T)\n",
      "    ndx2 = [int(matches[j][i]) for i in ndx]\n",
      "    tp = homography.make_homog(l[j][ndx, :2].T)\n",
      "    return fp, tp"
     ],
     "language": "python",
     "metadata": {},
     "outputs": [],
     "prompt_number": 1
    },
    {
     "cell_type": "code",
     "collapsed": false,
     "input": [
      "model = homography.RansaceModel(\"Model\")"
     ],
     "language": "python",
     "metadata": {},
     "outputs": []
    },
    {
     "cell_type": "code",
     "collapsed": false,
     "input": [
      "fp, tp = convertpoints(1)\n",
      "H_12 = homography.H_from_ransac(fp, tp, model)[0] #im 1 to 2"
     ],
     "language": "python",
     "metadata": {},
     "outputs": []
    },
    {
     "cell_type": "code",
     "collapsed": false,
     "input": [
      "fp, tp = convertpoints(0)\n",
      "H_01 = homography.H_from_ransac(fp, tp, model)[0] #im 0 to 1"
     ],
     "language": "python",
     "metadata": {},
     "outputs": []
    },
    {
     "cell_type": "code",
     "collapsed": false,
     "input": [
      "tp, fp = convert_points(2)\n",
      "H_32 = homography.H_from_ransac(fp, tp, model)[0] #im 3 to 2"
     ],
     "language": "python",
     "metadata": {},
     "outputs": []
    },
    {
     "cell_type": "code",
     "collapsed": false,
     "input": [
      "tp, fp = convert_points(3)\n",
      "H43 = homography.H_from_ransac(fp, tp, model)[0] #im 4 to 3"
     ],
     "language": "python",
     "metadata": {},
     "outputs": []
    },
    {
     "cell_type": "markdown",
     "metadata": {},
     "source": [
      "The following code stitches"
     ]
    }
   ],
   "metadata": {}
  }
 ]
}