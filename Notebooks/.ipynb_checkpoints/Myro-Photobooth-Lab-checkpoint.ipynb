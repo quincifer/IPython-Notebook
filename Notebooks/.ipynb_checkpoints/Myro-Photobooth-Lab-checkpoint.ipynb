{
 "metadata": {
  "name": "",
  "signature": "sha256:2bb89fb56dfecf56ed317d679d44c4bb3a081787949439c9ca2609afa70b6d86"
 },
 "nbformat": 3,
 "nbformat_minor": 0,
 "worksheets": [
  {
   "cells": [
    {
     "cell_type": "heading",
     "level": 1,
     "metadata": {},
     "source": [
      "Myro Photobooth Lab"
     ]
    },
    {
     "cell_type": "markdown",
     "metadata": {},
     "source": [
      "Darren Tirto <br>\n",
      "dt2925@bard.edu <br>\n",
      "October 10, 2014 <br>\n",
      "CMSC 143 <br>\n",
      "Keith O'Hara <br>"
     ]
    },
    {
     "cell_type": "code",
     "collapsed": false,
     "input": [
      "from Myro import *"
     ],
     "language": "python",
     "metadata": {},
     "outputs": []
    },
    {
     "cell_type": "code",
     "collapsed": false,
     "input": [
      "picture=makePicture(\"/Users/quincy/Documents/IPythonNotebook/Quincy-is-da-bomb/coolteacher.jpg\")\n",
      "picture2=makePicture(\"/Users/quincy/Documents/IPythonNotebook/Quincy-is-da-bomb/coolperson.jpg\")\n",
      "picture3=makePicture(\"/Users/quincy/Documents/IPythonNotebook/Quincy-is-da-bomb/coolclassroom.jpg\")\n",
      "theCoolestClassInTheWorld=[picture,picture2,picture3]"
     ],
     "language": "python",
     "metadata": {},
     "outputs": []
    },
    {
     "cell_type": "code",
     "collapsed": false,
     "input": [
      "def resize(image,factor):\n",
      "     x=getWidth(image)\n",
      "     y=getHeight(image)\n",
      "     resizeX=x*factor\n",
      "     resizeY=y*factor\n",
      "     resizeImage=makePicture(resizeX,resizeY)\n",
      "     for y in range(int(resizeY)):\n",
      "        for x in range(int(resizeX)):\n",
      "            resizePixel = getPixel(image,x/factor,y/factor)\n",
      "            c = getColor(resizePixel)\n",
      "            setPixel(resizeImage,x,y,c)\n",
      "     show (resizeImage)"
     ],
     "language": "python",
     "metadata": {},
     "outputs": []
    },
    {
     "cell_type": "code",
     "collapsed": false,
     "input": [
      "def mirror(image):\n",
      "    mirrorImage=makePicture(getWidth(image),getHeight(image))\n",
      "    for y in range(getHeight(image)):\n",
      "       for x in range(getWidth(image)):\n",
      "           mirrorX=(getWidth(image)-x)\n",
      "           setPixel(mirrorImage,mirrorX,y,getPixel(image,x,y))\n",
      "    show(mirrorImage)"
     ],
     "language": "python",
     "metadata": {},
     "outputs": []
    },
    {
     "cell_type": "code",
     "collapsed": false,
     "input": [
      "def flip(image):\n",
      "    mirrorImage=makePicture(getWidth(image),getHeight(image))\n",
      "    for y in range(getHeight(image)):\n",
      "       for x in range(getWidth(image)):\n",
      "           mirrorY=(getHeight(image)-y)\n",
      "           setPixel(mirrorImage,x,mirrorY,getPixel(image,x,y))\n",
      "    show(mirrorImage)"
     ],
     "language": "python",
     "metadata": {},
     "outputs": []
    },
    {
     "cell_type": "code",
     "collapsed": false,
     "input": [
      "def photobooth(listOfImages):\n",
      "    for i in range(len(listOfImages)):\n",
      "        strip=makePicture(getWidth(listOfImages[0]),getHeight(listOfImages[0])*len(listOfImages))\n",
      "        for y in range(getHeight(listOfImages[i])):\n",
      "            for x in range(getWidth(listOfImages[i])):\n",
      "                setPixel(strip,x,y*i,getPixel(listOfImages[i],x,y))\n",
      "    show(strip)"
     ],
     "language": "python",
     "metadata": {},
     "outputs": []
    },
    {
     "cell_type": "code",
     "collapsed": false,
     "input": [
      "photobooth(theCoolestClassInTheWorld)           "
     ],
     "language": "python",
     "metadata": {},
     "outputs": []
    }
   ],
   "metadata": {}
  }
 ]
}