{
 "metadata": {
  "name": "",
  "signature": "sha256:4034e9bd71ee68d77648a419a6321b3586bdb071b18dad80500f351ce9423449"
 },
 "nbformat": 3,
 "nbformat_minor": 0,
 "worksheets": [
  {
   "cells": [
    {
     "cell_type": "heading",
     "level": 1,
     "metadata": {},
     "source": [
      "Myro Photobooth Lab"
     ]
    },
    {
     "cell_type": "markdown",
     "metadata": {},
     "source": [
      "Darren Tirto <br>\n",
      "dt2925@bard.edu <br>\n",
      "October 10, 2014 <br>\n",
      "CMSC 143 <br>\n",
      "Keith O'Hara <br>"
     ]
    },
    {
     "cell_type": "code",
     "collapsed": false,
     "input": [
      "from myro import *"
     ],
     "language": "python",
     "metadata": {},
     "outputs": [
      {
       "output_type": "stream",
       "stream": "stdout",
       "text": [
        "WARNING: xmpp was not found: chat and webservices will not be available\n"
       ]
      },
      {
       "output_type": "stream",
       "stream": "stderr",
       "text": [
        "(c) 2006-2007 Institute for Personal Robots in Education\n",
        "[See http://www.roboteducation.org/ for more information]\n",
        "Myro version 2.9.1 is ready!\n"
       ]
      }
     ],
     "prompt_number": 3
    },
    {
     "cell_type": "code",
     "collapsed": false,
     "input": [
      "picture=makePicture(\"/Users/quincy/Documents/IPythonNotebook/Quincy-is-da-Bomb/coolclassroom.jpg\")\n",
      "picture2=makePicture(\"/Users/quincy/Documents/IPythonNotebook/Quincy-is-da-Bomb/coolteacher.jpg\")\n",
      "picture3=makePicture(\"/Users/quincy/Documents/IPythonNotebook/Quincy-is-da-Bomb/coolguy.jpg\")\n",
      "theCoolestClassInTheWorld=[picture,picture2,picture3]"
     ],
     "language": "python",
     "metadata": {},
     "outputs": [
      {
       "output_type": "stream",
       "stream": "stdout",
       "text": [
        "Hey Quincy!\n",
        "Hey Quincy!\n",
        "Hey Quincy!\n"
       ]
      },
      {
       "output_type": "stream",
       "stream": "stderr",
       "text": [
        "/Users/quincy/anaconda/envs/jyroTest/lib/python2.7/site-packages/myro/graphics.py:1106: FutureWarning: comparison to `None` will result in an elementwise object comparison in the future.\n",
        "  if self.pixels == None:\n"
       ]
      }
     ],
     "prompt_number": 4
    },
    {
     "cell_type": "code",
     "collapsed": false,
     "input": [
      "def resize(image, factor):\n",
      "     x=getWidth(image)\n",
      "     y=getHeight(image)\n",
      "     resizeX=x*factor\n",
      "     resizeY=y*factor\n",
      "     resizeImage=makePicture(resizeX,resizeY)\n",
      "     for y in range(resizeY):\n",
      "        for x in range(resizeX):\n",
      "            resizePixel = getPixel(image,x/factor,y/factor)\n",
      "            c = getColor(resizePixel)\n",
      "            setPixel(resizeImage,x,y,c)\n",
      "            \n",
      "     show (resizeImage)"
     ],
     "language": "python",
     "metadata": {},
     "outputs": [],
     "prompt_number": 41
    },
    {
     "cell_type": "code",
     "collapsed": false,
     "input": [
      "def mirror(image):\n",
      "    mirrorImage=makePicture(getWidth(image),getHeight(image))\n",
      "    for y in range(getHeight(image)):\n",
      "       for x in range(getWidth(image)):\n",
      "           mirrorX=(getWidth(image)-x)\n",
      "           setPixel(mirrorImage,mirrorX,y,getPixel(image,x,y))\n",
      "            \n",
      "    show(mirrorImage)"
     ],
     "language": "python",
     "metadata": {},
     "outputs": [],
     "prompt_number": 42
    },
    {
     "cell_type": "code",
     "collapsed": false,
     "input": [
      "def flip(image):\n",
      "    mirrorImage=makePicture(getWidth(image),getHeight(image))\n",
      "    for y in range(getHeight(image)):\n",
      "       for x in range(getWidth(image)):\n",
      "           mirrorY=(getHeight(image)-y)\n",
      "           setPixel(mirrorImage,x,mirrorY,getPixel(image,x,y))\n",
      "            \n",
      "    show(mirrorImage)"
     ],
     "language": "python",
     "metadata": {},
     "outputs": [],
     "prompt_number": 43
    },
    {
     "cell_type": "code",
     "collapsed": false,
     "input": [
      "def photobooth(listOfImages):\n",
      "    for i in range(len(listOfImages)):\n",
      "        strip=makePicture(getWidth(listOfImages[0]),getHeight(listOfImages[0])*len(listOfImages))\n",
      "        for y in range(getHeight(listOfImages[i])):\n",
      "            for x in range(getWidth(listOfImages[i])):\n",
      "                setPixel(strip,x,y*i,getPixel(listOfImages[i],x,y))\n",
      "                \n",
      "    show(strip)"
     ],
     "language": "python",
     "metadata": {},
     "outputs": [],
     "prompt_number": 44
    },
    {
     "cell_type": "code",
     "collapsed": false,
     "input": [
      "#flip(theCoolestClassInTheWorld[1])\n",
      "#mirror(theCoolestClassInTheWorld[0])\n",
      "resize(theCoolestClassInTheWorld[2], 2)\n",
      "#photobooth(theCoolestClassInTheWorld)    "
     ],
     "language": "python",
     "metadata": {},
     "outputs": [
      {
       "output_type": "stream",
       "stream": "stdout",
       "text": [
        "Hey Quincy!\n"
       ]
      },
      {
       "ename": "IndexError",
       "evalue": "index 266 is out of bounds for axis 0 with size 266",
       "output_type": "pyerr",
       "traceback": [
        "\u001b[0;31m---------------------------------------------------------------------------\u001b[0m\n\u001b[0;31mIndexError\u001b[0m                                Traceback (most recent call last)",
        "\u001b[0;32m<ipython-input-45-5996171aafca>\u001b[0m in \u001b[0;36m<module>\u001b[0;34m()\u001b[0m\n\u001b[1;32m      1\u001b[0m \u001b[0;31m#flip(theCoolestClassInTheWorld[1])\u001b[0m\u001b[0;34m\u001b[0m\u001b[0;34m\u001b[0m\u001b[0m\n\u001b[1;32m      2\u001b[0m \u001b[0;31m#mirror(theCoolestClassInTheWorld[0])\u001b[0m\u001b[0;34m\u001b[0m\u001b[0;34m\u001b[0m\u001b[0m\n\u001b[0;32m----> 3\u001b[0;31m \u001b[0mresize\u001b[0m\u001b[0;34m(\u001b[0m\u001b[0mtheCoolestClassInTheWorld\u001b[0m\u001b[0;34m[\u001b[0m\u001b[0;36m2\u001b[0m\u001b[0;34m]\u001b[0m\u001b[0;34m,\u001b[0m \u001b[0;36m2\u001b[0m\u001b[0;34m)\u001b[0m\u001b[0;34m\u001b[0m\u001b[0m\n\u001b[0m\u001b[1;32m      4\u001b[0m \u001b[0;31m#photobooth(theCoolestClassInTheWorld)\u001b[0m\u001b[0;34m\u001b[0m\u001b[0;34m\u001b[0m\u001b[0m\n",
        "\u001b[0;32m<ipython-input-41-bdcf9abe91ff>\u001b[0m in \u001b[0;36mresize\u001b[0;34m(image, factor)\u001b[0m\n\u001b[1;32m      8\u001b[0m         \u001b[0;32mfor\u001b[0m \u001b[0mx\u001b[0m \u001b[0;32min\u001b[0m \u001b[0mrange\u001b[0m\u001b[0;34m(\u001b[0m\u001b[0mresizeX\u001b[0m\u001b[0;34m)\u001b[0m\u001b[0;34m:\u001b[0m\u001b[0;34m\u001b[0m\u001b[0m\n\u001b[1;32m      9\u001b[0m             \u001b[0mresizePixel\u001b[0m \u001b[0;34m=\u001b[0m \u001b[0mgetPixel\u001b[0m\u001b[0;34m(\u001b[0m\u001b[0mimage\u001b[0m\u001b[0;34m,\u001b[0m\u001b[0mx\u001b[0m\u001b[0;34m/\u001b[0m\u001b[0mfactor\u001b[0m\u001b[0;34m,\u001b[0m\u001b[0my\u001b[0m\u001b[0;34m/\u001b[0m\u001b[0mfactor\u001b[0m\u001b[0;34m)\u001b[0m\u001b[0;34m\u001b[0m\u001b[0m\n\u001b[0;32m---> 10\u001b[0;31m             \u001b[0mc\u001b[0m \u001b[0;34m=\u001b[0m \u001b[0mgetColor\u001b[0m\u001b[0;34m(\u001b[0m\u001b[0mresizePixel\u001b[0m\u001b[0;34m)\u001b[0m\u001b[0;34m\u001b[0m\u001b[0m\n\u001b[0m\u001b[1;32m     11\u001b[0m             \u001b[0msetPixel\u001b[0m\u001b[0;34m(\u001b[0m\u001b[0mresizeImage\u001b[0m\u001b[0;34m,\u001b[0m\u001b[0mx\u001b[0m\u001b[0;34m,\u001b[0m\u001b[0my\u001b[0m\u001b[0;34m,\u001b[0m\u001b[0mc\u001b[0m\u001b[0;34m)\u001b[0m\u001b[0;34m\u001b[0m\u001b[0m\n\u001b[1;32m     12\u001b[0m \u001b[0;34m\u001b[0m\u001b[0m\n",
        "\u001b[0;32m/Users/quincy/anaconda/envs/jyroTest/lib/python2.7/site-packages/myro/__init__.pyc\u001b[0m in \u001b[0;36mgetColor\u001b[0;34m(pixel)\u001b[0m\n\u001b[1;32m   1427\u001b[0m \u001b[0;34m\u001b[0m\u001b[0m\n\u001b[1;32m   1428\u001b[0m \u001b[0;32mdef\u001b[0m \u001b[0mgetColor\u001b[0m\u001b[0;34m(\u001b[0m\u001b[0mpixel\u001b[0m\u001b[0;34m)\u001b[0m\u001b[0;34m:\u001b[0m\u001b[0;34m\u001b[0m\u001b[0m\n\u001b[0;32m-> 1429\u001b[0;31m     \u001b[0;32mreturn\u001b[0m \u001b[0mpixel\u001b[0m\u001b[0;34m.\u001b[0m\u001b[0mgetColor\u001b[0m\u001b[0;34m(\u001b[0m\u001b[0;34m)\u001b[0m\u001b[0;34m\u001b[0m\u001b[0m\n\u001b[0m\u001b[1;32m   1430\u001b[0m \u001b[0;34m\u001b[0m\u001b[0m\n\u001b[1;32m   1431\u001b[0m \u001b[0;32mdef\u001b[0m \u001b[0mgetGray\u001b[0m\u001b[0;34m(\u001b[0m\u001b[0mpixel\u001b[0m\u001b[0;34m)\u001b[0m\u001b[0;34m:\u001b[0m\u001b[0;34m\u001b[0m\u001b[0m\n",
        "\u001b[0;32m/Users/quincy/anaconda/envs/jyroTest/lib/python2.7/site-packages/myro/graphics.pyc\u001b[0m in \u001b[0;36mgetColor\u001b[0;34m(self)\u001b[0m\n\u001b[1;32m   1153\u001b[0m         \u001b[0;32mreturn\u001b[0m \u001b[0mPixel\u001b[0m\u001b[0;34m(\u001b[0m \u001b[0mx\u001b[0m\u001b[0;34m,\u001b[0m \u001b[0my\u001b[0m\u001b[0;34m,\u001b[0m \u001b[0mself\u001b[0m\u001b[0;34m.\u001b[0m\u001b[0mpicture\u001b[0m\u001b[0;34m)\u001b[0m\u001b[0;34m\u001b[0m\u001b[0m\n\u001b[1;32m   1154\u001b[0m     \u001b[0;32mdef\u001b[0m \u001b[0mgetColor\u001b[0m\u001b[0;34m(\u001b[0m\u001b[0mself\u001b[0m\u001b[0;34m)\u001b[0m\u001b[0;34m:\u001b[0m\u001b[0;34m\u001b[0m\u001b[0m\n\u001b[0;32m-> 1155\u001b[0;31m         \u001b[0mretval\u001b[0m \u001b[0;34m=\u001b[0m \u001b[0mself\u001b[0m\u001b[0;34m.\u001b[0m\u001b[0mpixels\u001b[0m\u001b[0;34m[\u001b[0m\u001b[0mself\u001b[0m\u001b[0;34m.\u001b[0m\u001b[0mx\u001b[0m\u001b[0;34m,\u001b[0m \u001b[0mself\u001b[0m\u001b[0;34m.\u001b[0m\u001b[0my\u001b[0m\u001b[0;34m]\u001b[0m\u001b[0;34m\u001b[0m\u001b[0m\n\u001b[0m\u001b[1;32m   1156\u001b[0m         \u001b[0;32mreturn\u001b[0m \u001b[0mColor\u001b[0m\u001b[0;34m(\u001b[0m\u001b[0mretval\u001b[0m\u001b[0;34m)\u001b[0m\u001b[0;34m\u001b[0m\u001b[0m\n\u001b[1;32m   1157\u001b[0m     \u001b[0;32mdef\u001b[0m \u001b[0msetColor\u001b[0m\u001b[0;34m(\u001b[0m\u001b[0mself\u001b[0m\u001b[0;34m,\u001b[0m \u001b[0mnewColor\u001b[0m\u001b[0;34m)\u001b[0m\u001b[0;34m:\u001b[0m\u001b[0;34m\u001b[0m\u001b[0m\n",
        "\u001b[0;31mIndexError\u001b[0m: index 266 is out of bounds for axis 0 with size 266"
       ]
      }
     ],
     "prompt_number": 45
    },
    {
     "cell_type": "code",
     "collapsed": false,
     "input": [],
     "language": "python",
     "metadata": {},
     "outputs": []
    }
   ],
   "metadata": {}
  }
 ]
}