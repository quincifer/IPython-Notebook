{
 "metadata": {
  "name": "",
  "signature": "sha256:29d3df88138d59a2bd17b9b54e254cbf14d679c380292b249df906471663b1f4"
 },
 "nbformat": 3,
 "nbformat_minor": 0,
 "worksheets": [
  {
   "cells": [
    {
     "cell_type": "heading",
     "level": 1,
     "metadata": {},
     "source": [
      "Photobooth Lab - NumPy Commands"
     ]
    },
    {
     "cell_type": "markdown",
     "metadata": {},
     "source": [
      "Darren Tirto & Quincy Delp<br>\n",
      "dt2925@bard.edu, qd1665@bard.edu <br>\n",
      "April 18, 2015 <br>\n",
      "Keith O'Hara <br>"
     ]
    },
    {
     "cell_type": "code",
     "collapsed": false,
     "input": [
      "from myro import *\n",
      "from PIL import *\n",
      "import numpy\n",
      "from matplotlib.pyplot import imshow\n",
      "import cv2\n",
      "%matplotlib inline"
     ],
     "language": "python",
     "metadata": {},
     "outputs": [
      {
       "output_type": "stream",
       "stream": "stdout",
       "text": [
        "WARNING: xmpp was not found: chat and webservices will not be available\n"
       ]
      },
      {
       "output_type": "stream",
       "stream": "stderr",
       "text": [
        "(c) 2006-2007 Institute for Personal Robots in Education\n",
        "[See http://www.roboteducation.org/ for more information]\n",
        "Myro version 2.9.1 is ready!\n"
       ]
      }
     ],
     "prompt_number": 1
    },
    {
     "cell_type": "code",
     "collapsed": false,
     "input": [
      "pic1 = makePicture(\"/Users/quincy/Documents/IPythonNotebook/Quincy-is-da-Bomb/coolclassroom.jpg\")\n",
      "pic2 = makePicture(\"/Users/quincy/Documents/IPythonNotebook/Quincy-is-da-Bomb/coolteacher.jpg\")\n",
      "pic3 = makePicture(\"/Users/quincy/Documents/IPythonNotebook/Quincy-is-da-Bomb/coolguy.jpg\")\n",
      "\n",
      "arr1 = numpy.array(pic1.image)\n",
      "arr2 = numpy.array(pic2.image)\n",
      "arr3 = numpy.array(pic3.image)\n",
      "\n",
      "picArray = numpy.array([arr1, arr2, arr3])"
     ],
     "language": "python",
     "metadata": {},
     "outputs": [
      {
       "output_type": "stream",
       "stream": "stdout",
       "text": [
        "Hey Quincy!\n",
        "Hey Quincy!\n",
        "Hey Quincy!\n"
       ]
      },
      {
       "output_type": "stream",
       "stream": "stderr",
       "text": [
        "/Users/quincy/anaconda/envs/jyroTest/lib/python2.7/site-packages/myro/graphics.py:1106: FutureWarning: comparison to `None` will result in an elementwise object comparison in the future.\n",
        "  if self.pixels == None:\n"
       ]
      }
     ],
     "prompt_number": 2
    },
    {
     "cell_type": "code",
     "collapsed": false,
     "input": [
      "arr1.shape"
     ],
     "language": "python",
     "metadata": {},
     "outputs": [
      {
       "metadata": {},
       "output_type": "pyout",
       "prompt_number": 3,
       "text": [
        "(266, 427, 4)"
       ]
      }
     ],
     "prompt_number": 3
    },
    {
     "cell_type": "code",
     "collapsed": false,
     "input": [
      "def resize(image, factor):\n",
      "    xSize = image.shape[1] * factor\n",
      "    ySize = image.shape[0] * factor\n",
      "    newArray = numpy.empty((ySize, xSize, 4))\n",
      "    for y in range(int(ySize) - 1):\n",
      "        for x in range(int(xSize) - 1):\n",
      "            newArray[y, x] = image[y/factor, x/factor, :]\n",
      "    imshow(newArray)"
     ],
     "language": "python",
     "metadata": {},
     "outputs": [],
     "prompt_number": 9
    },
    {
     "cell_type": "code",
     "collapsed": false,
     "input": [
      "def mirror(image):\n",
      "    mirrorImage=makePicture(getWidth(image),getHeight(image))\n",
      "    for y in range(getHeight(image)):\n",
      "       for x in range(getWidth(image)):\n",
      "           mirrorX=(getWidth(image)-x)\n",
      "           setPixel(mirrorImage,mirrorX,y,getPixel(image,x,y))\n",
      "    show(mirrorImage)"
     ],
     "language": "python",
     "metadata": {},
     "outputs": [],
     "prompt_number": 10
    },
    {
     "cell_type": "code",
     "collapsed": false,
     "input": [
      "def flip(image):\n",
      "    for y i\n",
      "    \n",
      "    mirrorImage=makePicture(getWidth(image),getHeight(image))\n",
      "    for y in range(getHeight(image)):\n",
      "       for x in range(getWidth(image)):\n",
      "           mirrorY=(getHeight(image)-y)\n",
      "           setPixel(mirrorImage,x,mirrorY,getPixel(image,x,y))\n",
      "    show(mirrorImage)"
     ],
     "language": "python",
     "metadata": {},
     "outputs": [
      {
       "ename": "SyntaxError",
       "evalue": "invalid syntax (<ipython-input-11-6ebd91e61836>, line 2)",
       "output_type": "pyerr",
       "traceback": [
        "\u001b[0;36m  File \u001b[0;32m\"<ipython-input-11-6ebd91e61836>\"\u001b[0;36m, line \u001b[0;32m2\u001b[0m\n\u001b[0;31m    for y i\u001b[0m\n\u001b[0m          ^\u001b[0m\n\u001b[0;31mSyntaxError\u001b[0m\u001b[0;31m:\u001b[0m invalid syntax\n"
       ]
      }
     ],
     "prompt_number": 11
    },
    {
     "cell_type": "code",
     "collapsed": false,
     "input": [
      "def photobooth(listOfImages):\n",
      "    for i in range(len(listOfImages)):\n",
      "        strip=makePicture(getWidth(listOfImages[0]),getHeight(listOfImages[0])*len(listOfImages))\n",
      "        for y in range(getHeight(listOfImages[i])):\n",
      "            for x in range(getWidth(listOfImages[i])):\n",
      "                setPixel(strip,x,y*i,getPixel(listOfImages[i],x,y))\n",
      "    show(strip)"
     ],
     "language": "python",
     "metadata": {},
     "outputs": [],
     "prompt_number": 12
    },
    {
     "cell_type": "code",
     "collapsed": false,
     "input": [
      "resize(picArray[0], 2)\n",
      "#mirror(picArray[1])\n",
      "#flip(picArray[2])\n",
      "#photobooth(theCoolestClassInTheWorld)    "
     ],
     "language": "python",
     "metadata": {},
     "outputs": [
      {
       "metadata": {},
       "output_type": "display_data",
       "png": "[encoded data removed]",
       "text": [
        "<matplotlib.figure.Figure at 0x10ac0af50>"
       ]
      }
     ],
     "prompt_number": 13
    },
    {
     "cell_type": "code",
     "collapsed": false,
     "input": [],
     "language": "python",
     "metadata": {},
     "outputs": []
    }
   ],
   "metadata": {}
  }
 ]
}