{
 "metadata": {
  "name": "",
  "signature": "sha256:4a38720aa94fade17624940f8586ed707eab935393b84c7b406ef400ee11bd9d"
 },
 "nbformat": 3,
 "nbformat_minor": 0,
 "worksheets": [
  {
   "cells": [
    {
     "cell_type": "heading",
     "level": 1,
     "metadata": {},
     "source": [
      "Photobooth Lab - NumPy Commands"
     ]
    },
    {
     "cell_type": "markdown",
     "metadata": {},
     "source": [
      "Darren Tirto & Quincy Delp<br>\n",
      "dt2925@bard.edu, qd1665@bard.edu <br>\n",
      "April 18, 2015 <br>\n",
      "Keith O'Hara <br>"
     ]
    },
    {
     "cell_type": "code",
     "collapsed": false,
     "input": [
      "from myro import*\n",
      "from PIL import *\n",
      "import numpy\n",
      "from matplotlib.pyplot import imshow\n",
      "import cv2\n",
      "%matplotlib inline"
     ],
     "language": "python",
     "metadata": {},
     "outputs": [],
     "prompt_number": 98
    },
    {
     "cell_type": "code",
     "collapsed": false,
     "input": [
      "picture=makePicture(\"/Users/quincy/Documents/IPythonNotebook/Quincy-is-da-Bomb/coolclassroom.jpg\")\n",
      "picture2=makePicture(\"/Users/quincy/Documents/IPythonNotebook/Quincy-is-da-Bomb/coolteacher.jpg\")\n",
      "picture3=makePicture(\"/Users/quincy/Documents/IPythonNotebook/Quincy-is-da-Bomb/coolguy.jpg\")\n",
      "arr = numpy.array(picture.image)\n",
      "arr2 = numpy.array(picture2.image)\n",
      "arr3 = numpy.array(picture3.image)\n",
      "\n",
      "theCoolestClassInTheWorld=[arr,arr2,arr3]"
     ],
     "language": "python",
     "metadata": {},
     "outputs": [
      {
       "output_type": "stream",
       "stream": "stdout",
       "text": [
        "Hey Quincy!\n",
        "Hey Quincy!\n",
        "Hey Quincy!\n"
       ]
      }
     ],
     "prompt_number": 99
    },
    {
     "cell_type": "code",
     "collapsed": false,
     "input": [
      "#Testing arena\n",
      "arr"
     ],
     "language": "python",
     "metadata": {},
     "outputs": [
      {
       "metadata": {},
       "output_type": "pyout",
       "prompt_number": 110,
       "text": [
        "array([[[ 29,  28,  34, 255],\n",
        "        [ 28,  27,  33, 255],\n",
        "        [ 26,  25,  31, 255],\n",
        "        ..., \n",
        "        [ 80,  88, 109, 255],\n",
        "        [ 73,  79, 103, 255],\n",
        "        [ 66,  70,  97, 255]],\n",
        "\n",
        "       [[ 35,  35,  43, 255],\n",
        "        [ 34,  34,  42, 255],\n",
        "        [ 32,  32,  40, 255],\n",
        "        ..., \n",
        "        [ 90,  98, 119, 255],\n",
        "        [ 85,  91, 115, 255],\n",
        "        [ 79,  83, 110, 255]],\n",
        "\n",
        "       [[ 42,  44,  56, 255],\n",
        "        [ 41,  43,  55, 255],\n",
        "        [ 40,  43,  52, 255],\n",
        "        ..., \n",
        "        [ 79,  87, 108, 255],\n",
        "        [ 76,  82, 106, 255],\n",
        "        [ 72,  76, 101, 255]],\n",
        "\n",
        "       ..., \n",
        "       [[ 11,  11,  13, 255],\n",
        "        [ 11,  11,  13, 255],\n",
        "        [ 11,  11,  13, 255],\n",
        "        ..., \n",
        "        [  5,   5,   3, 255],\n",
        "        [  6,   6,   4, 255],\n",
        "        [  9,   7,   8, 255]],\n",
        "\n",
        "       [[ 12,  12,  14, 255],\n",
        "        [ 12,  12,  14, 255],\n",
        "        [ 12,  12,  14, 255],\n",
        "        ..., \n",
        "        [  8,   8,   6, 255],\n",
        "        [ 10,   9,   7, 255],\n",
        "        [ 11,   9,  10, 255]],\n",
        "\n",
        "       [[ 12,  12,  14, 255],\n",
        "        [ 12,  12,  14, 255],\n",
        "        [ 12,  12,  14, 255],\n",
        "        ..., \n",
        "        [  8,   8,   6, 255],\n",
        "        [ 10,   9,   7, 255],\n",
        "        [ 11,   9,  10, 255]]], dtype=uint8)"
       ]
      }
     ],
     "prompt_number": 110
    },
    {
     "cell_type": "code",
     "collapsed": false,
     "input": [
      "def resize(image,factor):\n",
      "    resizeX = image.shape[1] * factor\n",
      "    resizeY = image.shape[0] * factor\n",
      "    resized = numpy.empty((resizeY, resizeX, 4), int)\n",
      "    for j in range(resizeY):\n",
      "        for i in range(resizeX):\n",
      "            resized[j, i] = image[(j/factor), (i/factor)]\n",
      "    \n",
      "    final = numpy.asarray(resized)\n",
      "    imshow(final)"
     ],
     "language": "python",
     "metadata": {},
     "outputs": [],
     "prompt_number": 101
    },
    {
     "cell_type": "code",
     "collapsed": false,
     "input": [
      "def mirror(image):\n",
      "    x = image.shape[1]\n",
      "    y = image.shape[0]\n",
      "    mirror = numpy.empty((y, x, 4), int)\n",
      "    for j in range(y):\n",
      "       for i in range(x):\n",
      "           mirror[j, i] = image[j, (x - i - 1)]\n",
      "    \n",
      "    final = numpy.asarray(mirror)\n",
      "    imshow(final)"
     ],
     "language": "python",
     "metadata": {},
     "outputs": [],
     "prompt_number": 131
    },
    {
     "cell_type": "code",
     "collapsed": false,
     "input": [
      "def flip(image):\n",
      "    x = image.shape[1]\n",
      "    y = image.shape[0]\n",
      "    flip = numpy.empty((y, x, 4), int)\n",
      "    for j in range(y):\n",
      "       for i in range(x):\n",
      "           flip[j, i] = image[(y - j - 1), i]\n",
      "    \n",
      "    final = numpy.asarray(flip)\n",
      "    imshow(final)"
     ],
     "language": "python",
     "metadata": {},
     "outputs": [],
     "prompt_number": 132
    },
    {
     "cell_type": "code",
     "collapsed": false,
     "input": [
      "def photobooth(listOfImages):\n",
      "    numImg = len(listOfImages)\n",
      "    y = 0\n",
      "    for j in range(numImg):\n",
      "        y = y + listOfImages[j].shape[0]\n",
      "        \n",
      "    x = 0\n",
      "    for i in range(numImg):\n",
      "        if(x < listOfImages[i].shape[1]):\n",
      "            x = listOfImages[i].shape[1]\n",
      "    \n",
      "    photobooth = numpy.empty((y, x, 4), int)\n",
      "    xCounter = 0\n",
      "    yCounter = 0\n",
      "    for n in range(numImg):\n",
      "        photobooth[yCounter:yCounter+listOfImages[n].shape[0], xCounter:xCounter+listOfImages[n].shape[1]] = listOfImages[n]\n",
      "        yCounter = yCounter + listOfImages[n].shape[0]\n",
      "    \n",
      "    final = numpy.asarray(photobooth)\n",
      "    imshow(final)"
     ],
     "language": "python",
     "metadata": {},
     "outputs": [],
     "prompt_number": 133
    },
    {
     "cell_type": "code",
     "collapsed": false,
     "input": [
      "#flip(theCoolestClassInTheWorld[1])\n",
      "#mirror(theCoolestClassInTheWorld[0])\n",
      "#resize(theCoolestClassInTheWorld[2], 2)\n",
      "#photobooth(theCoolestClassInTheWorld)    "
     ],
     "language": "python",
     "metadata": {},
     "outputs": [
      {
       "metadata": {},
       "output_type": "display_data",
       "png": "[encoded data removed]",
       "text": [
        "<matplotlib.figure.Figure at 0x106596790>"
       ]
      }
     ],
     "prompt_number": 134
    }
   ],
   "metadata": {}
  }
 ]
}