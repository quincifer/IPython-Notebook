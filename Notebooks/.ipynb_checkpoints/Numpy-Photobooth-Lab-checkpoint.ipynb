{
 "metadata": {
  "name": "",
  "signature": "sha256:a736077dba837427b5443e14139ac93852911ca43ce983de35eb943ddd6ad6e6"
 },
 "nbformat": 3,
 "nbformat_minor": 0,
 "worksheets": [
  {
   "cells": [
    {
     "cell_type": "heading",
     "level": 1,
     "metadata": {},
     "source": [
      "Photobooth Lab - NumPy Commands"
     ]
    },
    {
     "cell_type": "markdown",
     "metadata": {},
     "source": [
      "Darren Tirto & Quincy Delp<br>\n",
      "dt2925@bard.edu, qd1665@bard.edu <br>\n",
      "April 18, 2015 <br>\n",
      "Keith O'Hara <br>"
     ]
    },
    {
     "cell_type": "code",
     "collapsed": false,
     "input": [
      "from myro import *\n",
      "from PIL import *\n",
      "import numpy\n",
      "from matplotlib.pyplot import imshow\n",
      "import cv2\n",
      "%matplotlib inline"
     ],
     "language": "python",
     "metadata": {},
     "outputs": []
    },
    {
     "cell_type": "code",
     "collapsed": false,
     "input": [
      "pic1 = Image.open(\"/Users/quincy/Documents/IPythonNotebook/Quincy-is-da-Bomb/coolclassroom.jpg\")\n",
      "pic2 = Image.open(\"/Users/quincy/Documents/IPythonNotebook/Quincy-is-da-Bomb/coolteacher.jpg\")\n",
      "pic3 = Image.open(\"/Users/quincy/Documents/IPythonNotebook/Quincy-is-da-Bomb/coolguy.jpg\")\n",
      "picArray = [pic1, pic2, pic3]"
     ],
     "language": "python",
     "metadata": {},
     "outputs": []
    },
    {
     "cell_type": "code",
     "collapsed": false,
     "input": [
      "def resize(image,factor):\n",
      "     x=getWidth(image)\n",
      "     y=getHeight(image)\n",
      "     resizeX=x*factor\n",
      "     resizeY=y*factor\n",
      "     resizeImage=makePicture(resizeX,resizeY)\n",
      "     for y in range(int(resizeY)):\n",
      "        for x in range(int(resizeX)):\n",
      "            resizePixel = getPixel(image,x/factor,y/factor)\n",
      "            c = getColor(resizePixel)\n",
      "            setPixel(resizeImage,x,y,c)\n",
      "     show (resizeImage)"
     ],
     "language": "python",
     "metadata": {},
     "outputs": []
    },
    {
     "cell_type": "code",
     "collapsed": false,
     "input": [
      "def mirror(image):\n",
      "    mirrorImage=makePicture(getWidth(image),getHeight(image))\n",
      "    for y in range(getHeight(image)):\n",
      "       for x in range(getWidth(image)):\n",
      "           mirrorX=(getWidth(image)-x)\n",
      "           setPixel(mirrorImage,mirrorX,y,getPixel(image,x,y))\n",
      "    show(mirrorImage)"
     ],
     "language": "python",
     "metadata": {},
     "outputs": []
    },
    {
     "cell_type": "code",
     "collapsed": false,
     "input": [
      "def flip(image):\n",
      "    mirrorImage=makePicture(getWidth(image),getHeight(image))\n",
      "    for y in range(getHeight(image)):\n",
      "       for x in range(getWidth(image)):\n",
      "           mirrorY=(getHeight(image)-y)\n",
      "           setPixel(mirrorImage,x,mirrorY,getPixel(image,x,y))\n",
      "    show(mirrorImage)"
     ],
     "language": "python",
     "metadata": {},
     "outputs": [],
     "prompt_number": 1
    },
    {
     "cell_type": "code",
     "collapsed": false,
     "input": [
      "def photobooth(listOfImages):\n",
      "    for i in range(len(listOfImages)):\n",
      "        strip=makePicture(getWidth(listOfImages[0]),getHeight(listOfImages[0])*len(listOfImages))\n",
      "        for y in range(getHeight(listOfImages[i])):\n",
      "            for x in range(getWidth(listOfImages[i])):\n",
      "                setPixel(strip,x,y*i,getPixel(listOfImages[i],x,y))\n",
      "    show(strip)"
     ],
     "language": "python",
     "metadata": {},
     "outputs": []
    },
    {
     "cell_type": "code",
     "collapsed": false,
     "input": [
      "#flip(theCoolestClassInTheWorld[1])\n",
      "#mirror(theCoolestClassInTheWorld[0])\n",
      "#resize(theCoolestClassInTheWorld[2], 2)\n",
      "#photobooth(theCoolestClassInTheWorld)    "
     ],
     "language": "python",
     "metadata": {},
     "outputs": []
    }
   ],
   "metadata": {}
  }
 ]
}