{
 "metadata": {
  "name": "",
  "signature": "sha256:ced68022af42aacf8e61f773cb0749f1727928bce50daccf67d64d6ceedd487c"
 },
 "nbformat": 3,
 "nbformat_minor": 0,
 "worksheets": [
  {
   "cells": [
    {
     "cell_type": "heading",
     "level": 1,
     "metadata": {},
     "source": [
      "Creating a Panorama using OpenCV library and Scribbler Robot"
     ]
    },
    {
     "cell_type": "heading",
     "level": 5,
     "metadata": {},
     "source": [
      "And tools from Jan E. Solem's Programming Computer Vision book"
     ]
    },
    {
     "cell_type": "code",
     "collapsed": false,
     "input": [
      "from myro import *\n",
      "from PIL import Image\n",
      "import numpy\n",
      "from matplotlib.pyplot import imshow\n",
      "import cv2\n",
      "%matplotlib inline"
     ],
     "language": "python",
     "metadata": {},
     "outputs": []
    },
    {
     "cell_type": "code",
     "collapsed": false,
     "input": [
      "init(\"/dev/ttyUSB0.Fluke2-0639-Fluke2\")"
     ],
     "language": "python",
     "metadata": {},
     "outputs": []
    },
    {
     "cell_type": "code",
     "collapsed": false,
     "input": [
      "for i in range(3):\n",
      "    pic = takePicutre()\n",
      "    savePicture(pic, ['picture'+str(i)+'.png']"
     ],
     "language": "python",
     "metadata": {},
     "outputs": []
    },
    {
     "cell_type": "code",
     "collapsed": false,
     "input": [
      "import homography\n",
      "import sift\n",
      "import warp\n",
      "import ransac"
     ],
     "language": "python",
     "metadata": {},
     "outputs": [
      {
       "output_type": "stream",
       "stream": "stderr",
       "text": [
        "/Users/quincy/anaconda/lib/python2.7/site-packages/matplotlib/cbook.py:133: MatplotlibDeprecationWarning: The matplotlib.delaunay module was deprecated in version 1.4. Use matplotlib.tri.Triangulation instead.\n",
        "  warnings.warn(message, mplDeprecation, stacklevel=1)\n"
       ]
      }
     ],
     "prompt_number": 1
    },
    {
     "cell_type": "markdown",
     "metadata": {},
     "source": [
      "The following code matches features using sift"
     ]
    },
    {
     "cell_type": "code",
     "collapsed": false,
     "input": [
      "#p. 72 from book\n",
      "featname = ['Univ' + str(i+1) + '.sift' for i in range(5)]\n",
      "imname = ['Univ' + str(i+1) + '.sift' for i in range(5)]\n",
      "l = {}\n",
      "d = {}\n",
      "for i in range(5):\n",
      "    sift.process_image(imname[i], featname[i])\n",
      "    l[i], d[i] = sift.read_features_from_file(featname[i])\n",
      "    \n",
      "matches = {}\n",
      "for i in range(4):\n",
      "    matches[i] = sift.match(d[i+1], d[i])"
     ],
     "language": "python",
     "metadata": {},
     "outputs": []
    },
    {
     "cell_type": "markdown",
     "metadata": {},
     "source": [
      "The following code creates homographies for and applies RANSAC to a given \"Model\""
     ]
    },
    {
     "cell_type": "code",
     "collapsed": false,
     "input": [
      "#from p. 74\n",
      "def convert_points(j):\n",
      "    ndx = matches[j].nonzero()[0]\n",
      "    fp = homography.make_homoc(l[j+1][ndx, :2].T)\n",
      "    ndx2 = [int(matches[j][i]) for i in ndx]\n",
      "    tp = homography.make_homog(l[j][ndx, :2].T)\n",
      "    return fp, tp"
     ],
     "language": "python",
     "metadata": {},
     "outputs": [],
     "prompt_number": 1
    },
    {
     "cell_type": "code",
     "collapsed": false,
     "input": [
      "#\"Model\" is not a real model, just a place holder\n",
      "model = homography.RansaceModel(\"Model\")"
     ],
     "language": "python",
     "metadata": {},
     "outputs": []
    },
    {
     "cell_type": "code",
     "collapsed": false,
     "input": [
      "fp, tp = convertpoints(1)\n",
      "H_12 = homography.H_from_ransac(fp, tp, model)[0] #im 1 to 2\n",
      "\n",
      "fp, tp = convertpoints(0)\n",
      "H_01 = homography.H_from_ransac(fp, tp, model)[0] #im 0 to 1\n",
      "\n",
      "tp, fp = convert_points(2)\n",
      "H_32 = homography.H_from_ransac(fp, tp, model)[0] #im 3 to 2\n",
      "\n",
      "tp, fp = convert_points(3)\n",
      "H43 = homography.H_from_ransac(fp, tp, model)[0] #im 4 to 3"
     ],
     "language": "python",
     "metadata": {},
     "outputs": []
    },
    {
     "cell_type": "markdown",
     "metadata": {},
     "source": [
      "The following code stitches"
     ]
    },
    {
     "cell_type": "code",
     "collapsed": false,
     "input": [
      "#warp images\n",
      "delta = 2000 #for padding\n",
      "\n",
      "im1 = array(Image.open(imname[1]))\n",
      "im2 = array(Image.open(imname[2]))\n",
      "im12 = warp.panorama(H_12, im1, im2, delta, delta)\n",
      "\n",
      "im1 = array(Image.open(imname[0]))\n",
      "im_02 = warp.panorama(dot(H_12, H_01), im1, im_12, delta, delta)\n",
      "\n",
      "im1 = array(Image.open(imname[3]))\n",
      "im_32 = warp.panorama(H_32, im1, im_02, delta, delta)\n",
      "\n",
      "im1 = array(Image.open(imname[j+1]))\n",
      "im_42 = warp.panorama(dot(H_32, H_43), im1, im_32, delta, 2*delta)\n"
     ],
     "language": "python",
     "metadata": {},
     "outputs": []
    }
   ],
   "metadata": {}
  }
 ]
}