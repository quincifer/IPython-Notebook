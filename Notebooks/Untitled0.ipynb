{
 "metadata": {
  "name": "",
  "signature": "sha256:cc3e44e50fe31fd5320bdc30c561b00745f176ed780e20c86c495037fc49b1c7"
 },
 "nbformat": 3,
 "nbformat_minor": 0,
 "worksheets": []
}