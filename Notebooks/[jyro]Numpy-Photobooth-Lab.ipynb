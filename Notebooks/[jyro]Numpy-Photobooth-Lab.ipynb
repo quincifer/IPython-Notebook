{
 "metadata": {
  "name": "",
  "signature": "sha256:2e77b963a2f35ccb5e3a4c74e309f76851adbe3da600072acbc856d2f7f0fd80"
 },
 "nbformat": 3,
 "nbformat_minor": 0,
 "worksheets": [
  {
   "cells": [
    {
     "cell_type": "heading",
     "level": 1,
     "metadata": {},
     "source": [
      "Photobooth Lab - NumPy Commands"
     ]
    },
    {
     "cell_type": "markdown",
     "metadata": {},
     "source": [
      "Darren Tirto & Quincy Delp<br>\n",
      "dt2925@bard.edu, qd1665@bard.edu <br>\n",
      "April 18, 2015 <br>\n",
      "Keith O'Hara <br>"
     ]
    },
    {
     "cell_type": "code",
     "collapsed": false,
     "input": [
      "from myro import*\n",
      "from PIL import *\n",
      "import numpy\n",
      "from matplotlib.pyplot import imshow\n",
      "import cv2\n",
      "%matplotlib inline"
     ],
     "language": "python",
     "metadata": {},
     "outputs": [
      {
       "output_type": "stream",
       "stream": "stdout",
       "text": [
        "WARNING: xmpp was not found: chat and webservices will not be available\n"
       ]
      },
      {
       "output_type": "stream",
       "stream": "stderr",
       "text": [
        "(c) 2006-2007 Institute for Personal Robots in Education\n",
        "[See http://www.roboteducation.org/ for more information]\n",
        "Myro version 2.9.1 is ready!\n"
       ]
      }
     ],
     "prompt_number": 1
    },
    {
     "cell_type": "code",
     "collapsed": false,
     "input": [
      "picture=makePicture(\"/Users/quincy/Documents/IPythonNotebook/Quincy-is-da-Bomb/coolclassroom.jpg\")\n",
      "picture2=makePicture(\"/Users/quincy/Documents/IPythonNotebook/Quincy-is-da-Bomb/coolteacher.jpg\")\n",
      "picture3=makePicture(\"/Users/quincy/Documents/IPythonNotebook/Quincy-is-da-Bomb/coolguy.jpg\")\n",
      "arr = numpy.array(picture.image)\n",
      "arr2 = numpy.array(picture2.image)\n",
      "arr3 = numpy.array(picture3.image)\n",
      "\n",
      "theCoolestClassInTheWorld=[arr,arr2,arr3]"
     ],
     "language": "python",
     "metadata": {},
     "outputs": [
      {
       "output_type": "stream",
       "stream": "stdout",
       "text": [
        "Hey Quincy!\n",
        "Hey Quincy!\n",
        "Hey Quincy!\n"
       ]
      },
      {
       "output_type": "stream",
       "stream": "stderr",
       "text": [
        "/Users/quincy/anaconda/envs/jyroTest/lib/python2.7/site-packages/myro/graphics.py:1106: FutureWarning: comparison to `None` will result in an elementwise object comparison in the future.\n",
        "  if self.pixels == None:\n"
       ]
      }
     ],
     "prompt_number": 2
    },
    {
     "cell_type": "code",
     "collapsed": false,
     "input": [
      "#Testing arena\n",
      "something = numpy.empty((3, 4, 5))\n",
      "something"
     ],
     "language": "python",
     "metadata": {},
     "outputs": [
      {
       "metadata": {},
       "output_type": "pyout",
       "prompt_number": 19,
       "text": [
        "array([[[ 0.,  0.,  0.,  0.,  0.],\n",
        "        [ 0.,  0.,  0.,  0.,  0.],\n",
        "        [ 0.,  0.,  0.,  0.,  0.],\n",
        "        [ 0.,  0.,  0.,  0.,  0.]],\n",
        "\n",
        "       [[ 0.,  0.,  0.,  0.,  0.],\n",
        "        [ 0.,  0.,  0.,  0.,  0.],\n",
        "        [ 0.,  0.,  0.,  0.,  0.],\n",
        "        [ 0.,  0.,  0.,  0.,  0.]],\n",
        "\n",
        "       [[ 0.,  0.,  0.,  0.,  0.],\n",
        "        [ 0.,  0.,  0.,  0.,  0.],\n",
        "        [ 0.,  0.,  0.,  0.,  0.],\n",
        "        [ 0.,  0.,  0.,  0.,  0.]]])"
       ]
      }
     ],
     "prompt_number": 19
    },
    {
     "cell_type": "code",
     "collapsed": false,
     "input": [
      "def resize(image,factor):\n",
      "    resizeX = image.shape[1] * factor\n",
      "    resizeY = image.shape[0] * factor\n",
      "    resized = numpy.empty((resizeY, resizeX, 4), int)\n",
      "    for j in range(resizeY):\n",
      "        for i in range(resizeX):\n",
      "            resized[j, i] = image[(j/factor), (i/factor)]\n",
      "    \n",
      "    final = numpy.asarray(resized)\n",
      "    #imshow(final)\n",
      "    print final"
     ],
     "language": "python",
     "metadata": {},
     "outputs": [],
     "prompt_number": 10
    },
    {
     "cell_type": "code",
     "collapsed": false,
     "input": [
      "def mirror(image):\n",
      "    x = image.shape[1]\n",
      "    y = image.shape[0]\n",
      "    mirror = numpy.empty((y, x, 4), int)\n",
      "    for j in range(y):\n",
      "       for i in range(x):\n",
      "           mirror[j, i] = image[j, (x - i - 1)]\n",
      "    \n",
      "    final = numpy.asarray(mirror)\n",
      "    #imshow(final)\n",
      "    print final"
     ],
     "language": "python",
     "metadata": {},
     "outputs": [],
     "prompt_number": 11
    },
    {
     "cell_type": "code",
     "collapsed": false,
     "input": [
      "def flip(image):\n",
      "    x = image.shape[1]\n",
      "    y = image.shape[0]\n",
      "    flip = numpy.empty((y, x, 4), int)\n",
      "    for j in range(y):\n",
      "       for i in range(x):\n",
      "           flip[j, i] = image[(y - j - 1), i]\n",
      "    \n",
      "    final = numpy.asarray(flip)\n",
      "    #imshow(final)\n",
      "    print final"
     ],
     "language": "python",
     "metadata": {},
     "outputs": [],
     "prompt_number": 12
    },
    {
     "cell_type": "code",
     "collapsed": false,
     "input": [
      "def photobooth(listOfImages):\n",
      "    numImg = len(listOfImages)\n",
      "    y = 0\n",
      "    for j in range(numImg):\n",
      "        y = y + listOfImages[j].shape[0]\n",
      "        \n",
      "    x = 0\n",
      "    for i in range(numImg):\n",
      "        if(x < listOfImages[i].shape[1]):\n",
      "            x = listOfImages[i].shape[1]\n",
      "    \n",
      "    photobooth = numpy.empty((y, x, 4), int)\n",
      "    xCounter = 0\n",
      "    yCounter = 0\n",
      "    for n in range(numImg):\n",
      "        photobooth[yCounter:yCounter+listOfImages[n].shape[0], xCounter:xCounter+listOfImages[n].shape[1]] = listOfImages[n]\n",
      "        yCounter = yCounter + listOfImages[n].shape[0]\n",
      "    \n",
      "    final = numpy.asarray(photobooth)\n",
      "    #imshow(final)\n",
      "    print final"
     ],
     "language": "python",
     "metadata": {},
     "outputs": [],
     "prompt_number": 13
    },
    {
     "cell_type": "code",
     "collapsed": false,
     "input": [
      "flip(theCoolestClassInTheWorld[1])\n",
      "mirror(theCoolestClassInTheWorld[0])\n",
      "resize(theCoolestClassInTheWorld[2], 2)\n",
      "photobooth(theCoolestClassInTheWorld)    "
     ],
     "language": "python",
     "metadata": {},
     "outputs": [
      {
       "output_type": "stream",
       "stream": "stdout",
       "text": [
        "[[[ 29  36  46 255]\n",
        "  [ 30  37  47 255]\n",
        "  [ 32  39  49 255]\n",
        "  ..., \n",
        "  [ 31  39  42 255]\n",
        "  [ 27  37  38 255]\n",
        "  [ 24  34  35 255]]\n",
        "\n",
        " [[ 29  36  46 255]\n",
        "  [ 30  37  47 255]\n",
        "  [ 32  39  49 255]\n",
        "  ..., \n",
        "  [ 31  39  41 255]\n",
        "  [ 28  36  38 255]\n",
        "  [ 24  34  35 255]]\n",
        "\n",
        " [[ 33  40  50 255]\n",
        "  [ 38  45  55 255]\n",
        "  [ 45  52  62 255]\n",
        "  ..., \n",
        "  [ 34  39  42 255]\n",
        "  [ 33  38  41 255]\n",
        "  [ 32  38  38 255]]\n",
        "\n",
        " ..., \n",
        " [[150 141 124 255]\n",
        "  [151 142 125 255]\n",
        "  [153 144 127 255]\n",
        "  ..., \n",
        "  [ 63  57  43 255]\n",
        "  [ 65  56  41 255]\n",
        "  [108  95  79 255]]\n",
        "\n",
        " [[147 139 120 255]\n",
        "  [148 140 121 255]\n",
        "  [151 143 124 255]\n",
        "  ..., \n",
        "  [ 69  63  49 255]\n",
        "  [ 67  60  44 255]\n",
        "  [105  93  77 255]]\n",
        "\n",
        " [[145 137 118 255]\n",
        "  [147 139 120 255]\n",
        "  [149 141 122 255]\n",
        "  ..., \n",
        "  [ 70  64  50 255]\n",
        "  [ 70  63  47 255]\n",
        "  [110  98  82 255]]]\n",
        "[[[ 66  70  97 255]\n",
        "  [ 73  79 103 255]\n",
        "  [ 80  88 109 255]\n",
        "  ..., \n",
        "  [ 26  25  31 255]\n",
        "  [ 28  27  33 255]\n",
        "  [ 29  28  34 255]]\n",
        "\n",
        " [[ 79  83 110 255]\n",
        "  [ 85  91 115 255]\n",
        "  [ 90  98 119 255]\n",
        "  ..., \n",
        "  [ 32  32  40 255]\n",
        "  [ 34  34  42 255]\n",
        "  [ 35  35  43 255]]\n",
        "\n",
        " [[ 72  76 101 255]\n",
        "  [ 76  82 106 255]\n",
        "  [ 79  87 108 255]\n",
        "  ..., \n",
        "  [ 40  43  52 255]\n",
        "  [ 41  43  55 255]\n",
        "  [ 42  44  56 255]]\n",
        "\n",
        " ..., \n",
        " [[  9   7   8 255]\n",
        "  [  6   6   4 255]\n",
        "  [  5   5   3 255]\n",
        "  ..., \n",
        "  [ 11  11  13 255]\n",
        "  [ 11  11  13 255]\n",
        "  [ 11  11  13 255]]\n",
        "\n",
        " [[ 11   9  10 255]\n",
        "  [ 10   9   7 255]\n",
        "  [  8   8   6 255]\n",
        "  ..., \n",
        "  [ 12  12  14 255]\n",
        "  [ 12  12  14 255]\n",
        "  [ 12  12  14 255]]\n",
        "\n",
        " [[ 11   9  10 255]\n",
        "  [ 10   9   7 255]\n",
        "  [  8   8   6 255]\n",
        "  ..., \n",
        "  [ 12  12  14 255]\n",
        "  [ 12  12  14 255]\n",
        "  [ 12  12  14 255]]]"
       ]
      },
      {
       "output_type": "stream",
       "stream": "stdout",
       "text": [
        "\n",
        "[[[ 56  70  44 255]\n",
        "  [ 56  70  44 255]\n",
        "  [ 51  64  54 255]\n",
        "  ..., \n",
        "  [209 246 255 255]\n",
        "  [108 175 220 255]\n",
        "  [108 175 220 255]]\n",
        "\n",
        " [[ 56  70  44 255]\n",
        "  [ 56  70  44 255]\n",
        "  [ 51  64  54 255]\n",
        "  ..., \n",
        "  [209 246 255 255]\n",
        "  [108 175 220 255]\n",
        "  [108 175 220 255]]\n",
        "\n",
        " [[ 61  74  48 255]\n",
        "  [ 61  74  48 255]\n",
        "  [ 54  66  56 255]\n",
        "  ..., \n",
        "  [216 255 255 255]\n",
        "  [129 199 233 255]\n",
        "  [129 199 233 255]]\n",
        "\n",
        " ..., \n",
        " [[ 15  16  20 255]\n",
        "  [ 15  16  20 255]\n",
        "  [ 16  17  21 255]\n",
        "  ..., \n",
        "  [ 46  72  89 255]\n",
        "  [ 25  50  70 255]\n",
        "  [ 25  50  70 255]]\n",
        "\n",
        " [[ 15  16  20 255]\n",
        "  [ 15  16  20 255]\n",
        "  [ 16  17  21 255]\n",
        "  ..., \n",
        "  [ 48  74  91 255]\n",
        "  [ 27  52  72 255]\n",
        "  [ 27  52  72 255]]\n",
        "\n",
        " [[ 15  16  20 255]\n",
        "  [ 15  16  20 255]\n",
        "  [ 16  17  21 255]\n",
        "  ..., \n",
        "  [ 48  74  91 255]\n",
        "  [ 27  52  72 255]\n",
        "  [ 27  52  72 255]]]"
       ]
      },
      {
       "output_type": "stream",
       "stream": "stdout",
       "text": [
        "\n",
        "[[[ 29  28  34 255]\n",
        "  [ 28  27  33 255]\n",
        "  [ 26  25  31 255]\n",
        "  ..., \n",
        "  [ 80  88 109 255]\n",
        "  [ 73  79 103 255]\n",
        "  [ 66  70  97 255]]\n",
        "\n",
        " [[ 35  35  43 255]\n",
        "  [ 34  34  42 255]\n",
        "  [ 32  32  40 255]\n",
        "  ..., \n",
        "  [ 90  98 119 255]\n",
        "  [ 85  91 115 255]\n",
        "  [ 79  83 110 255]]\n",
        "\n",
        " [[ 42  44  56 255]\n",
        "  [ 41  43  55 255]\n",
        "  [ 40  43  52 255]\n",
        "  ..., \n",
        "  [ 79  87 108 255]\n",
        "  [ 76  82 106 255]\n",
        "  [ 72  76 101 255]]\n",
        "\n",
        " ..., \n",
        " [[ 20  21  25 255]\n",
        "  [ 20  21  25 255]\n",
        "  [ 20  21  25 255]\n",
        "  ..., \n",
        "  [ 56  82  99 255]\n",
        "  [ 60  86 103 255]\n",
        "  [ 38  63  83 255]]\n",
        "\n",
        " [[ 15  16  20 255]\n",
        "  [ 16  17  21 255]\n",
        "  [ 16  17  21 255]\n",
        "  ..., \n",
        "  [ 42  68  85 255]\n",
        "  [ 46  72  89 255]\n",
        "  [ 25  50  70 255]]\n",
        "\n",
        " [[ 15  16  20 255]\n",
        "  [ 16  17  21 255]\n",
        "  [ 16  17  21 255]\n",
        "  ..., \n",
        "  [ 44  70  87 255]\n",
        "  [ 48  74  91 255]\n",
        "  [ 27  52  72 255]]]\n"
       ]
      }
     ],
     "prompt_number": 14
    },
    {
     "cell_type": "code",
     "collapsed": false,
     "input": [],
     "language": "python",
     "metadata": {},
     "outputs": []
    }
   ],
   "metadata": {}
  }
 ]
}