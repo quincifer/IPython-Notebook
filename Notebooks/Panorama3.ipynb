{
 "metadata": {
  "name": "",
  "signature": "sha256:633b87a94e49dd23567c78d856c2161bce079fea74054bfe0ba8b90aa638d08a"
 },
 "nbformat": 3,
 "nbformat_minor": 0,
 "worksheets": [
  {
   "cells": [
    {
     "cell_type": "code",
     "collapsed": false,
     "input": [
      "from myro import *\n",
      "from PIL import Image\n",
      "import numpy\n",
      "from matplotlib.pyplot import imshow\n",
      "import cv2\n",
      "%matplotlib inline"
     ],
     "language": "python",
     "metadata": {},
     "outputs": [
      {
       "output_type": "stream",
       "stream": "stdout",
       "text": [
        "WARNING: xmpp was not found: chat and webservices will not be available\n"
       ]
      },
      {
       "output_type": "stream",
       "stream": "stderr",
       "text": [
        "(c) 2006-2007 Institute for Personal Robots in Education\n",
        "[See http://www.roboteducation.org/ for more information]\n",
        "Myro version 2.9.1 is ready!\n"
       ]
      }
     ],
     "prompt_number": 1
    },
    {
     "cell_type": "markdown",
     "metadata": {},
     "source": [
      "needed to download this: http://www.vlfeat.org/download.html\n",
      "needed to change bash_profile to load the directory in the downloads\n",
      "needed to change sift.process_image to access the downloads directory"
     ]
    },
    {
     "cell_type": "code",
     "collapsed": false,
     "input": [
      "import homography\n",
      "import sift\n",
      "import warp\n",
      "import ransac"
     ],
     "language": "python",
     "metadata": {},
     "outputs": [
      {
       "output_type": "stream",
       "stream": "stderr",
       "text": [
        "/Users/quincy/anaconda/lib/python2.7/site-packages/matplotlib/cbook.py:133: MatplotlibDeprecationWarning: The matplotlib.delaunay module was deprecated in version 1.4. Use matplotlib.tri.Triangulation instead.\n",
        "  warnings.warn(message, mplDeprecation, stacklevel=1)\n"
       ]
      }
     ],
     "prompt_number": 2
    },
    {
     "cell_type": "code",
     "collapsed": false,
     "input": [
      "init(\"/dev/tty.Fluke2-0639-Fluke2\")"
     ],
     "language": "python",
     "metadata": {},
     "outputs": [
      {
       "output_type": "stream",
       "stream": "stdout",
       "text": [
        "Closing serial port...\n",
        "You are using fluke firmware"
       ]
      },
      {
       "output_type": "stream",
       "stream": "stdout",
       "text": [
        " 3.0.9\n",
        "You are using scribbler firmware"
       ]
      },
      {
       "output_type": "stream",
       "stream": "stdout",
       "text": [
        " 1.1.6\n",
        "Hello, I'm Maddie!"
       ]
      },
      {
       "output_type": "stream",
       "stream": "stdout",
       "text": [
        "\n"
       ]
      }
     ],
     "prompt_number": 9
    },
    {
     "cell_type": "code",
     "collapsed": false,
     "input": [
      "for i in range(5):\n",
      "    pic = takePicture()\n",
      "    savePicture(pic, \"picture\"+str(i)+\".jpg\")\n",
      "    motors(-0.5, 0.5)\n",
      "    motors(0, 0)"
     ],
     "language": "python",
     "metadata": {},
     "outputs": [],
     "prompt_number": 12
    },
    {
     "cell_type": "code",
     "collapsed": false,
     "input": [
      "#p. 72 from book\n",
      "#uses sift\n",
      "#change from: featname = ['Univ' + str(i+1) + '.sift' for i in range(5)]\n",
      "\n",
      "featname = ['picture' + str(i) + '.sift' for i in range(5)]\n",
      "imname = ['picture' + str(i) + '.jpg' for i in range(5)]\n",
      "l = {}\n",
      "d = {}\n",
      "for i in range(5):\n",
      "    sift.process_image(imname[i], featname[i])\n",
      "    l[i], d[i] = sift.read_features_from_file(featname[i])\n",
      "    \n",
      "matches = {}\n",
      "for i in range(4):\n",
      "    matches[i] = sift.match(d[i+1], d[i])\n",
      "    #sift.match returns"
     ],
     "language": "python",
     "metadata": {},
     "outputs": [
      {
       "output_type": "stream",
       "stream": "stdout",
       "text": [
        "processed tmp.pgm to picture0.sift\n",
        "processed"
       ]
      },
      {
       "output_type": "stream",
       "stream": "stdout",
       "text": [
        " tmp.pgm to picture1.sift\n",
        "processed"
       ]
      },
      {
       "output_type": "stream",
       "stream": "stdout",
       "text": [
        " tmp.pgm to picture2.sift\n",
        "processed"
       ]
      },
      {
       "output_type": "stream",
       "stream": "stdout",
       "text": [
        " tmp.pgm to picture3.sift\n",
        "processed"
       ]
      },
      {
       "output_type": "stream",
       "stream": "stdout",
       "text": [
        " tmp.pgm to picture4.sift\n"
       ]
      }
     ],
     "prompt_number": 3
    },
    {
     "cell_type": "code",
     "collapsed": false,
     "input": [
      "matches[0].nonzero()"
     ],
     "language": "python",
     "metadata": {},
     "outputs": [
      {
       "metadata": {},
       "output_type": "pyout",
       "prompt_number": 4,
       "text": [
        "(array([ 17,  18,  19,  20,  22,  23,  28,  29,  37,  46,  53,  54,  56,\n",
        "         59,  76,  89,  96, 102, 111, 112]),)"
       ]
      }
     ],
     "prompt_number": 4
    },
    {
     "cell_type": "code",
     "collapsed": false,
     "input": [
      "matches"
     ],
     "language": "python",
     "metadata": {},
     "outputs": [
      {
       "metadata": {},
       "output_type": "pyout",
       "prompt_number": 5,
       "text": [
        "{0: array([  0,   0,   0,   0,   0,   0,   0,   0,   0,   0,   0,   0,   0,\n",
        "          0,   0,   0,   0,  12,  13,  14,  15,   0,  16,  21,   0,   0,\n",
        "          0,   0,  64,  65,   0,   0,   0,   0,   0,   0,   0,  84,   0,\n",
        "          0,   0,   0,   0,   0,   0,   0,  67,   0,   0,   0,   0,   0,\n",
        "          0,  29,  83,   0,  89,   0,   0, 116,   0,   0,   0,   0,   0,\n",
        "          0,   0,   0,   0,   0,   0,   0,   0,   0,   0,   0, 115,   0,\n",
        "          0,   0,   0,   0,   0,   0,   0,   0,   0,   0,   0, 126,   0,\n",
        "          0,   0,   0,   0,   0, 142,   0,   0,   0,   0,   0, 141,   0,\n",
        "          0,   0,   0,   0,   0,   0,   0, 176, 154,   0,   0,   0,   0,\n",
        "          0,   0,   0,   0,   0,   0,   0,   0,   0,   0,   0,   0,   0,\n",
        "          0,   0,   0,   0,   0,   0,   0,   0,   0,   0,   0]),\n",
        " 1: array([  0,   0,   0,   0,   0,   0,   0,   0,   0,   0,   0,   0,   0,\n",
        "          0,   0,   0,   0,   0,   0,   0,   0,   0,   0,   0,   0,   0,\n",
        "          0,   0,   0,   0,   0,   0,   0,   0,   0,   0,   0,   0,   0,\n",
        "          0,   0,   0,   0,   0,   0,  42,   0,   0,   0,   0,   0,   0,\n",
        "          0,   0,  28,   0,   0,   0,   0,   0,   0,   0,   0,   0,   0,\n",
        "          0,   0,   0,   0,   0,   0,   0,   0,  54,   0,  59,   0,   0,\n",
        "          0,   0,   0,   0,   0,   0,   0,   0,   0,   0,   0,   0,   0,\n",
        "          0,   0,   0,   0,   0,   0,   0,  73,   0,   0,   0,   0,   0,\n",
        "          0,   0,   0,   0,   0,   0,   0,   0,  81,  82,   0,   0,   0,\n",
        "          0,   0,   0,   0,   0,   0,   0,  85,   0,   0,   0,   0,   0,\n",
        "          0,   0,   0,   0,   0,   0,   0,   0,   0,  91,   0,   0,   0,\n",
        "        102,  88,  89,  96,   0,   0,   0,   0,   0,   0,   0,   0,   0,\n",
        "          0,   0,   0,   0,   0, 104,   0,   0,   0,   0,   0,   0,   0,\n",
        "          0,   0,   0,   0,   0,   0,   0,   0,   0,   0,   0,   0,   0,\n",
        "          0,   0,   0,   0,   0,   0,   0,   0,   0,   0,   0,   0,   0,\n",
        "          0,   0,   0,   0,   0,   0]),\n",
        " 2: array([  0,   0,   0,   0,   0,   0,   0,   0,  12,   0,   0,   0,   0,\n",
        "          0,   0,   0,   0,   0,   0,   0,   0,   0,   0,   0,   0,  31,\n",
        "         32,   0,   0,   0,   0,   0,   0,   0,   0,   0,   0,   0,   0,\n",
        "          0,   0,   0,   0,   0,   0,  34,   0,   0,   0,   0,   0,   0,\n",
        "          0,   0,   0,   0,   0,   0,   0,   0,   0,   0,   0,   0,   0,\n",
        "          0,   0,   0,   0,   0,   0,   0,   0,   0,   0,   0,   0,   0,\n",
        "          0,   0,   0,   0,   0,   0,   0,   0,   0,   0,   0,   0,   0,\n",
        "          0, 104,   0,   0,   0,   0,   0,  86,   0,   0,   0,   0,   0,\n",
        "          0,   0,   0,   0,   0,   0,   0,   0,   0,   0,   0,   0,   0,\n",
        "          0,  39,   0,   0,   0,   0,   0,   0,   0,   0,   0, 103,   0,\n",
        "          0, 104,   0,   0, 102, 105,   0, 108, 109,   0,   0,   0,   0,\n",
        "          0,   0,   0,   0,   0,   0,   0,   0,   0,   0,   0,   0,   0,\n",
        "          0,   0,   0,   0,   0,   0,   0,   0,   0,   0,   0,   0,   0,\n",
        "          0,   0,   0,   0,   0,   0,   0,   0,   0,   0, 135, 136,   0,\n",
        "          0,   0,   0,   0,   0,   0,   0,   0,   0,   0,   0,   0,   0,\n",
        "          0,   0,   0,   0,   0,   0,   0,   0,   0,   0,   0,   0,   0,\n",
        "        126,   0, 118,   0, 143,   0,   0,   0,   0,   0,   0,   0,   0,\n",
        "          0,   0,   0,   0,   0,   0, 142,   0,   0, 160,   0,   0,   0,\n",
        "          0,   0,   0,   0,   0,   0,   0,   0,   0, 168,   0,   0,   0,\n",
        "          0,   0,   0,   0,   0,   0, 171,   0,   0,   0,   0,   0,   0,\n",
        "          0,   0,   0,   0,   0,   0,   0,   0,   0,   0,   0,   0,   0,   0]),\n",
        " 3: array([  0,   0,   0,   0,   0,   0,   0,   0,   0,   0,   0,   0,   0,\n",
        "          0,   0,   0,   0,   0,   0,   0,   0,   0,   0,   0,   0,   0,\n",
        "          0,   0,   0,   0,   0,   0,   0,   0,   0,   0,   0,   0,   0,\n",
        "          0,   0,   0,   0,   0,   0,   0,   0,   0,   0,  77, 122,   0,\n",
        "          0,   0,  86,  83,   0,  93,   0,   0,   0,   0,   0,   0,  99,\n",
        "        100,   0,   0,   0,   0,   0,   0,   0,   0,   0,   0, 235,   0,\n",
        "          0,   0,   0,   0,   0,   0,   0,   0,   0,   0,   0,   0, 124,\n",
        "        124,   0,   0, 129,   0, 133,   0, 136,   0,   0,   0,   0, 153,\n",
        "          0,   0,   0,   0,   0,   0,   0, 235,   0,   0,   0,   0,   0,\n",
        "          0,   0, 168,   0,   0,   0,   0,   0,   0,   0,   0, 210, 211,\n",
        "          0,   0,   0,   0,   0,   0,   0,   0,   0,   0,   0,   0,   0,\n",
        "          0, 233,   0,   0,   0,   0,   0,   0,   0,   0,   0,   0,   0,\n",
        "          0,   0,   0,   0,   0, 255,   0,   0,   0,   0,   0,   0,   0,\n",
        "        265,   0,   0, 260,   0, 263,   0,   0,   0,   0,   0,   0,   0,\n",
        "          0,   0,   0,   0,   0,   0])}"
       ]
      }
     ],
     "prompt_number": 5
    },
    {
     "cell_type": "code",
     "collapsed": false,
     "input": [
      "ndx = matches[0].nonzero()[0]\n",
      "l[0][ndx, :2].T.shape\n"
     ],
     "language": "python",
     "metadata": {},
     "outputs": [
      {
       "metadata": {},
       "output_type": "pyout",
       "prompt_number": 6,
       "text": [
        "(2, 20)"
       ]
      }
     ],
     "prompt_number": 6
    },
    {
     "cell_type": "code",
     "collapsed": false,
     "input": [
      "#from p. 74\n",
      "def convert_points(j):\n",
      "    #gets the position for nonzero elements in the 0'th dimension of the array. Note the [0] is unecessary\n",
      "    ndx = matches[j].nonzero()[0]\n",
      "    fp = homography.make_homog(l[j+1][ndx, :2].T)\n",
      "    ndx2 = [int(matches[j][i]) for i in ndx]\n",
      "    #.T = transpose\n",
      "    tp = homography.make_homog(l[j][ndx2, :2].T)\n",
      "    return fp, tp"
     ],
     "language": "python",
     "metadata": {},
     "outputs": [],
     "prompt_number": 7
    },
    {
     "cell_type": "code",
     "collapsed": false,
     "input": [
      "model = homography.RansacModel()"
     ],
     "language": "python",
     "metadata": {},
     "outputs": [],
     "prompt_number": 8
    },
    {
     "cell_type": "code",
     "collapsed": false,
     "input": [
      "fp, tp = convert_points(1)\n",
      "H_12 = homography.H_from_ransac(fp, tp, model)[0] #im 1 to 2\n",
      "\n",
      "fp, tp = convert_points(0)\n",
      "H_01 = homography.H_from_ransac(fp, tp, model)[0] #im 0 to 1\n",
      "\n",
      "tp, fp = convert_points(2)\n",
      "H_32 = homography.H_from_ransac(fp, tp, model)[0] #im 3 to 2\n",
      "\n",
      "tp, fp = convert_points(3)\n",
      "H43 = homography.H_from_ransac(fp, tp, model)[0] #im 4 to 3"
     ],
     "language": "python",
     "metadata": {},
     "outputs": [
      {
       "ename": "RuntimeError",
       "evalue": "number of points do not match",
       "output_type": "pyerr",
       "traceback": [
        "\u001b[0;31m---------------------------------------------------------------------------\u001b[0m\n\u001b[0;31mRuntimeError\u001b[0m                              Traceback (most recent call last)",
        "\u001b[0;32m<ipython-input-10-53877fc3df50>\u001b[0m in \u001b[0;36m<module>\u001b[0;34m()\u001b[0m\n\u001b[1;32m      1\u001b[0m \u001b[0mfp\u001b[0m\u001b[0;34m,\u001b[0m \u001b[0mtp\u001b[0m \u001b[0;34m=\u001b[0m \u001b[0mconvert_points\u001b[0m\u001b[0;34m(\u001b[0m\u001b[0;36m1\u001b[0m\u001b[0;34m)\u001b[0m\u001b[0;34m\u001b[0m\u001b[0m\n\u001b[0;32m----> 2\u001b[0;31m \u001b[0mH_12\u001b[0m \u001b[0;34m=\u001b[0m \u001b[0mhomography\u001b[0m\u001b[0;34m.\u001b[0m\u001b[0mH_from_ransac\u001b[0m\u001b[0;34m(\u001b[0m\u001b[0mfp\u001b[0m\u001b[0;34m,\u001b[0m \u001b[0mtp\u001b[0m\u001b[0;34m,\u001b[0m \u001b[0mmodel\u001b[0m\u001b[0;34m)\u001b[0m\u001b[0;34m[\u001b[0m\u001b[0;36m0\u001b[0m\u001b[0;34m]\u001b[0m \u001b[0;31m#im 1 to 2\u001b[0m\u001b[0;34m\u001b[0m\u001b[0m\n\u001b[0m\u001b[1;32m      3\u001b[0m \u001b[0;34m\u001b[0m\u001b[0m\n\u001b[1;32m      4\u001b[0m \u001b[0mfp\u001b[0m\u001b[0;34m,\u001b[0m \u001b[0mtp\u001b[0m \u001b[0;34m=\u001b[0m \u001b[0mconvert_points\u001b[0m\u001b[0;34m(\u001b[0m\u001b[0;36m0\u001b[0m\u001b[0;34m)\u001b[0m\u001b[0;34m\u001b[0m\u001b[0m\n\u001b[1;32m      5\u001b[0m \u001b[0mH_01\u001b[0m \u001b[0;34m=\u001b[0m \u001b[0mhomography\u001b[0m\u001b[0;34m.\u001b[0m\u001b[0mH_from_ransac\u001b[0m\u001b[0;34m(\u001b[0m\u001b[0mfp\u001b[0m\u001b[0;34m,\u001b[0m \u001b[0mtp\u001b[0m\u001b[0;34m,\u001b[0m \u001b[0mmodel\u001b[0m\u001b[0;34m)\u001b[0m\u001b[0;34m[\u001b[0m\u001b[0;36m0\u001b[0m\u001b[0;34m]\u001b[0m \u001b[0;31m#im 0 to 1\u001b[0m\u001b[0;34m\u001b[0m\u001b[0m\n",
        "\u001b[0;32m/Users/quincy/Documents/IPythonNotebook/Notebooks/homography.pyc\u001b[0m in \u001b[0;36mH_from_ransac\u001b[0;34m(fp, tp, model, maxiter, match_theshold)\u001b[0m\n\u001b[1;32m     63\u001b[0m \u001b[0;34m\u001b[0m\u001b[0m\n\u001b[1;32m     64\u001b[0m     \u001b[0;31m# compute H and return\u001b[0m\u001b[0;34m\u001b[0m\u001b[0;34m\u001b[0m\u001b[0m\n\u001b[0;32m---> 65\u001b[0;31m     \u001b[0mH\u001b[0m\u001b[0;34m,\u001b[0m\u001b[0mransac_data\u001b[0m \u001b[0;34m=\u001b[0m \u001b[0mransac\u001b[0m\u001b[0;34m.\u001b[0m\u001b[0mransac\u001b[0m\u001b[0;34m(\u001b[0m\u001b[0mdata\u001b[0m\u001b[0;34m.\u001b[0m\u001b[0mT\u001b[0m\u001b[0;34m,\u001b[0m\u001b[0mmodel\u001b[0m\u001b[0;34m,\u001b[0m\u001b[0;36m4\u001b[0m\u001b[0;34m,\u001b[0m\u001b[0mmaxiter\u001b[0m\u001b[0;34m,\u001b[0m\u001b[0mmatch_theshold\u001b[0m\u001b[0;34m,\u001b[0m\u001b[0;36m10\u001b[0m\u001b[0;34m,\u001b[0m\u001b[0mreturn_all\u001b[0m\u001b[0;34m=\u001b[0m\u001b[0mTrue\u001b[0m\u001b[0;34m)\u001b[0m\u001b[0;34m\u001b[0m\u001b[0m\n\u001b[0m\u001b[1;32m     66\u001b[0m     \u001b[0;32mreturn\u001b[0m \u001b[0mH\u001b[0m\u001b[0;34m,\u001b[0m\u001b[0mransac_data\u001b[0m\u001b[0;34m[\u001b[0m\u001b[0;34m'inliers'\u001b[0m\u001b[0;34m]\u001b[0m\u001b[0;34m\u001b[0m\u001b[0m\n\u001b[1;32m     67\u001b[0m \u001b[0;34m\u001b[0m\u001b[0m\n",
        "\u001b[0;32m/Users/quincy/Documents/IPythonNotebook/Notebooks/ransac.pyc\u001b[0m in \u001b[0;36mransac\u001b[0;34m(data, model, n, k, t, d, debug, return_all)\u001b[0m\n\u001b[1;32m     86\u001b[0m         \u001b[0mmaybeinliers\u001b[0m \u001b[0;34m=\u001b[0m \u001b[0mdata\u001b[0m\u001b[0;34m[\u001b[0m\u001b[0mmaybe_idxs\u001b[0m\u001b[0;34m,\u001b[0m\u001b[0;34m:\u001b[0m\u001b[0;34m]\u001b[0m\u001b[0;34m\u001b[0m\u001b[0m\n\u001b[1;32m     87\u001b[0m         \u001b[0mtest_points\u001b[0m \u001b[0;34m=\u001b[0m \u001b[0mdata\u001b[0m\u001b[0;34m[\u001b[0m\u001b[0mtest_idxs\u001b[0m\u001b[0;34m]\u001b[0m\u001b[0;34m\u001b[0m\u001b[0m\n\u001b[0;32m---> 88\u001b[0;31m         \u001b[0mmaybemodel\u001b[0m \u001b[0;34m=\u001b[0m \u001b[0mmodel\u001b[0m\u001b[0;34m.\u001b[0m\u001b[0mfit\u001b[0m\u001b[0;34m(\u001b[0m\u001b[0mmaybeinliers\u001b[0m\u001b[0;34m)\u001b[0m\u001b[0;34m\u001b[0m\u001b[0m\n\u001b[0m\u001b[1;32m     89\u001b[0m         \u001b[0mtest_err\u001b[0m \u001b[0;34m=\u001b[0m \u001b[0mmodel\u001b[0m\u001b[0;34m.\u001b[0m\u001b[0mget_error\u001b[0m\u001b[0;34m(\u001b[0m \u001b[0mtest_points\u001b[0m\u001b[0;34m,\u001b[0m \u001b[0mmaybemodel\u001b[0m\u001b[0;34m)\u001b[0m\u001b[0;34m\u001b[0m\u001b[0m\n\u001b[1;32m     90\u001b[0m         \u001b[0malso_idxs\u001b[0m \u001b[0;34m=\u001b[0m \u001b[0mtest_idxs\u001b[0m\u001b[0;34m[\u001b[0m\u001b[0mtest_err\u001b[0m \u001b[0;34m<\u001b[0m \u001b[0mt\u001b[0m\u001b[0;34m]\u001b[0m \u001b[0;31m# select indices of rows with accepted points\u001b[0m\u001b[0;34m\u001b[0m\u001b[0m\n",
        "\u001b[0;32m/Users/quincy/Documents/IPythonNotebook/Notebooks/homography.pyc\u001b[0m in \u001b[0;36mfit\u001b[0;34m(self, data)\u001b[0m\n\u001b[1;32m    187\u001b[0m \u001b[0;34m\u001b[0m\u001b[0m\n\u001b[1;32m    188\u001b[0m         \u001b[0;31m#fit homography and return\u001b[0m\u001b[0;34m\u001b[0m\u001b[0;34m\u001b[0m\u001b[0m\n\u001b[0;32m--> 189\u001b[0;31m         \u001b[0;32mreturn\u001b[0m \u001b[0mH_from_points\u001b[0m\u001b[0;34m(\u001b[0m\u001b[0mfp\u001b[0m\u001b[0;34m,\u001b[0m \u001b[0mtp\u001b[0m\u001b[0;34m)\u001b[0m\u001b[0;34m\u001b[0m\u001b[0m\n\u001b[0m\u001b[1;32m    190\u001b[0m \u001b[0;34m\u001b[0m\u001b[0m\n\u001b[1;32m    191\u001b[0m     \u001b[0;32mdef\u001b[0m \u001b[0mget_error\u001b[0m\u001b[0;34m(\u001b[0m\u001b[0mself\u001b[0m\u001b[0;34m,\u001b[0m \u001b[0mdata\u001b[0m\u001b[0;34m,\u001b[0m \u001b[0mH\u001b[0m\u001b[0;34m)\u001b[0m\u001b[0;34m:\u001b[0m\u001b[0;34m\u001b[0m\u001b[0m\n",
        "\u001b[0;32m/Users/quincy/Documents/IPythonNotebook/Notebooks/homography.pyc\u001b[0m in \u001b[0;36mH_from_points\u001b[0;34m(fp, tp)\u001b[0m\n\u001b[1;32m     73\u001b[0m \u001b[0;34m\u001b[0m\u001b[0m\n\u001b[1;32m     74\u001b[0m     \u001b[0;32mif\u001b[0m \u001b[0mfp\u001b[0m\u001b[0;34m.\u001b[0m\u001b[0mshape\u001b[0m \u001b[0;34m!=\u001b[0m \u001b[0mtp\u001b[0m\u001b[0;34m.\u001b[0m\u001b[0mshape\u001b[0m\u001b[0;34m:\u001b[0m\u001b[0;34m\u001b[0m\u001b[0m\n\u001b[0;32m---> 75\u001b[0;31m         \u001b[0;32mraise\u001b[0m \u001b[0mRuntimeError\u001b[0m\u001b[0;34m(\u001b[0m\u001b[0;34m'number of points do not match'\u001b[0m\u001b[0;34m)\u001b[0m\u001b[0;34m\u001b[0m\u001b[0m\n\u001b[0m\u001b[1;32m     76\u001b[0m \u001b[0;34m\u001b[0m\u001b[0m\n\u001b[1;32m     77\u001b[0m     \u001b[0;31m# condition points (important for numerical reasons)\u001b[0m\u001b[0;34m\u001b[0m\u001b[0;34m\u001b[0m\u001b[0m\n",
        "\u001b[0;31mRuntimeError\u001b[0m: number of points do not match"
       ]
      }
     ],
     "prompt_number": 10
    },
    {
     "cell_type": "code",
     "collapsed": false,
     "input": [
      "#p. 76 from  book\n",
      "#warp images\n",
      "delta = 2000 #for padding\n",
      "\n",
      "im1 = array(Image.open(imname[1]))\n",
      "im2 = array(Image.open(imname[2]))\n",
      "im12 = warp.panorama(H_12, im1, im2, delta, delta)\n",
      "\n",
      "im1 = array(Image.open(imname[0]))\n",
      "im_02 = warp.panorama(dot(H_12, H_01), im1, im_12, delta, delta)\n",
      "\n",
      "im1 = array(Image.open(imname[3]))\n",
      "im_32 = warp.panorama(H_32, im1, im_02, delta, delta)\n",
      "\n",
      "im1 = array(Image.open(imname[j+1]))\n",
      "im_42 = warp.panorama(dot(H_32, H_43), im1, im_32, delta, 2*delta)"
     ],
     "language": "python",
     "metadata": {},
     "outputs": []
    }
   ],
   "metadata": {}
  }
 ]
}