{
 "metadata": {
  "name": "",
  "signature": "sha256:c29805d2e7ebb7de46dbaf6e929457ea286d72da9914779c336b1e56ccaf4927"
 },
 "nbformat": 3,
 "nbformat_minor": 0,
 "worksheets": []
}