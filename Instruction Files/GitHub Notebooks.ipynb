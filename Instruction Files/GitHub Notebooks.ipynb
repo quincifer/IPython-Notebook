{
 "metadata": {
  "name": "",
  "signature": "sha256:a2c98114c6adb5492753038521b34df5502bd19705f803d8ed449a64068cc45c"
 },
 "nbformat": 3,
 "nbformat_minor": 0,
 "worksheets": [
  {
   "cells": [
    {
     "cell_type": "heading",
     "level": 3,
     "metadata": {},
     "source": [
      "Creating a notebook repository"
     ]
    },
    {
     "cell_type": "markdown",
     "metadata": {},
     "source": [
      "<b>Step 1:</b> GitHub repository setup<br>\n",
      "<ol><li>Log in to GitHub.</li>\n",
      "<li>Create a new repository.</li>\n",
      "<li>Select \"Initialize this repository with a README.\"</li>\n",
      "</ol><br>\n",
      "<b>Step 2:</b> Setup notebook into your repository<br>\n",
      "<ol><li>Click the \"clone to desktop\" button.</li>\n",
      "<li>Save it in the desired location.</li>\n",
      "<li>Create a notebook from Anaconda.</li>\n",
      "<li>Move a notebook into your folder with any chances you want.</li>\n",
      "<li>In the GitHub app, enter a summary such as \"Add Notebook\" and press \"Commit to Master\".</li>\n",
      "<li>Press \"Sync\" at the very top right of the GitHub app.</li>\n",
      "</ol><br>\n",
      "<b>Step 3:</b> Commit Changes<br>\n",
      "<ol><li>Open your notebook by navigating to the directory from Anaconda.</li>\n",
      "<li>Do whatever you do in the notebook then save it.</li>\n",
      "<li>In the GitHub app accept all the changes, including any ipynb_checkpoints. Then enter a summary and commit to master.</li>\n",
      "<li>Press \"Sync\" at the very top right of the GitHub app.</li>\n",
      "</ol>"
     ]
    },
    {
     "cell_type": "heading",
     "level": 3,
     "metadata": {},
     "source": [
      "Editing someone else's repository"
     ]
    },
    {
     "cell_type": "markdown",
     "metadata": {},
     "source": [
      "<b>Step 1:</b> Forking the repository<br>\n",
      "<ol><li>Go to the repository you want to edit.</li>\n",
      "<li>In the top right corner, press fork.</li>\n",
      "<li>In the bottom, right corner, press clone to desktop.</li>\n",
      "<li>Save it wherever you want to.</li>\n",
      "</ol><br>\n",
      "<b>Step 2:</b> Editing the notebook<br>\n",
      "<ol><li>Open the notebook with Anaconda.</li>\n",
      "<li>Mess up the notebook as much as you want.</li>\n",
      "<li>In the GitHub app, enter a summary to your changes such as \"Haha, I messed this up\" and press \"Commit to Master\".</li>\n",
      "<li>Press \"Sync\" at the very top right of the GitHub app.</li>\n",
      "</ol><br>\n",
      "<b>Step 3:</b> Request a \"Pull Request\"<br>\n",
      "<ol><li>After it finishes syncing, go to the original repository on GitHub.</li>\n",
      "<li>Press the small green \"Compare, review, create a pull request\" button.</li>\n",
      "<li>The original creater has to accept the changes</li>\n",
      "</ol>"
     ]
    }
   ],
   "metadata": {}
  }
 ]
}